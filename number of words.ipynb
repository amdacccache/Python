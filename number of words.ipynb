{
 "cells": [
  {
   "cell_type": "code",
   "execution_count": 3,
   "metadata": {},
   "outputs": [
    {
     "name": "stdout",
     "output_type": "stream",
     "text": [
      "Write a sentence: \n",
      "There are 0 words in your sentence.\n"
     ]
    }
   ],
   "source": [
    "'''\n",
    "Anna Daccache\n",
    "10/7/19\n",
    "CS5001\n",
    "Fall 2019\n",
    "Homework 4\n",
    "Words\n",
    "'''\n",
    "\n",
    "def main():\n",
    "    # prompting user to enter a phrase using the input function\n",
    "    sentence = input('Write a sentence: ')\n",
    "\n",
    "    # splitting up the sentence by making each word a substring\n",
    "    words = sentence.split()\n",
    "    # using the length function to count the number of words\n",
    "    count = len(words)\n",
    "    \n",
    "    print('There are', count, 'words in your sentence.')\n",
    "\n",
    "main()"
   ]
  }
 ],
 "metadata": {
  "kernelspec": {
   "display_name": "Python 3",
   "language": "python",
   "name": "python3"
  },
  "language_info": {
   "codemirror_mode": {
    "name": "ipython",
    "version": 3
   },
   "file_extension": ".py",
   "mimetype": "text/x-python",
   "name": "python",
   "nbconvert_exporter": "python",
   "pygments_lexer": "ipython3",
   "version": "3.7.3"
  }
 },
 "nbformat": 4,
 "nbformat_minor": 2
}
