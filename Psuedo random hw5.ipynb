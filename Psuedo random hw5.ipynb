{
 "cells": [
  {
   "cell_type": "code",
   "execution_count": 3,
   "metadata": {},
   "outputs": [
    {
     "name": "stdout",
     "output_type": "stream",
     "text": [
      "[7, 8, 6, 1, 2, 0, 4, 5, 3, 7]\n"
     ]
    }
   ],
   "source": [
    "'''\n",
    "Anna Daccache\n",
    "CS5001\n",
    "Fall 2019\n",
    "10/24/19\n",
    "HW 5\n",
    "PRNG pt 1\n",
    "'''\n",
    "\n",
    "def pseudo_random(m, a, c, seed, n):\n",
    "# m - modulus\n",
    "# a - multiplier, 2 <= a\n",
    "# c - increment, 0 <= c < m \n",
    "# seed - 0 <= seed < m\n",
    "# n - number of times the loop runs and > pseudo_random values\n",
    "    value = []\n",
    "    \n",
    "    for i in range(n):\n",
    "        # linear congruential algorithm\n",
    "        seed = (a * seed + c) % m\n",
    "        value.append(seed)\n",
    "    \n",
    "    return value\n",
    "# calling function with specific values\n",
    "print(pseudo_random(9, 7, 4, 3, 10))\n",
    "    "
   ]
  },
  {
   "cell_type": "code",
   "execution_count": 8,
   "metadata": {},
   "outputs": [
    {
     "name": "stdout",
     "output_type": "stream",
     "text": [
      "Enter a value for variable m: 5\n",
      "Enter a value less than m and greater than or equal to 2: 10\n",
      "Enter a value less than m and greater than or equal to 0: 12\n",
      "Enter a value less than m and greater than or equal to 0: 13\n",
      "Enter a value: 15\n",
      "Error in input value.\n"
     ]
    }
   ],
   "source": [
    "'''\n",
    "Anna Daccache\n",
    "CS5001\n",
    "Fall 2019\n",
    "10/24/19\n",
    "HW 5\n",
    "PRNG pt 2\n",
    "\n",
    "Test Plan:\n",
    "\n",
    "Test Case 1:\n",
    "m = 13, a = 3, c = 2, seed = 1, n = 10\n",
    "Output: [5, 4, 1, 5, 4, 1, 5, 4, 1, 5]\n",
    "\n",
    "Test Case 2:\n",
    "m = 7, a = 4, c = 1, seed = 3, n = 8\n",
    "Output: [6, 4, 3, 6, 4, 3, 6, 4]\n",
    "\n",
    "Test Case 3:\n",
    "m = 11, a = 3, c = 0, seed = 2, n = 6\n",
    "Output: [6, 7, 10, 8, 2, 6]\n",
    "\n",
    "Test Case 4:\n",
    "m = 10, a = 3, c = 3, seed = 3, n = 5\n",
    "Output: [2, 9, 0, 3, 2]\n",
    "\n",
    "Test Case 5: \n",
    "m = 1, a = 3, c = 15, seed = 2, n = 100\n",
    "Output: Error\n",
    "'''\n",
    "\n",
    "\n",
    "def pseudo_random(m, a, c, seed, n):\n",
    "# m - modulus\n",
    "# a - multiplier, 2 <= a\n",
    "# c - increment, 0 <= c < m \n",
    "# seed - 0 <= seed < m\n",
    "# n - number of times the loop runs and > pseudo_random values\n",
    "    value = []\n",
    "\n",
    "    for i in range(n):\n",
    "         # linear congruential algorithm\n",
    "        seed = (a * seed + c) % m\n",
    "        value.append(seed)\n",
    "\n",
    "    return value\n",
    "\n",
    "\n",
    "def main():\n",
    "\n",
    "    m = int(input('Enter a value for variable m: '))\n",
    "    a = int(input('Enter a value less than m and greater than or equal to 2: '))\n",
    "    c = int(input('Enter a value less than m and greater than or equal to 0: '))\n",
    "    seed = int(input('Enter a value less than m and greater than or equal to 0: '))\n",
    "    n = int(input('Enter a value: '))\n",
    "\n",
    "    # validating user input\n",
    "    if a < 2: \n",
    "        print('Error in input value.')\n",
    "    elif a > m: \n",
    "        print('Error in input value.')\n",
    "    elif c < 0:\n",
    "        print('Error in input value.')\n",
    "    elif c > m:\n",
    "        print('Error in input value.')\n",
    "    elif seed < 0:\n",
    "        print('Error in input value.')\n",
    "    elif seed > m:\n",
    "        print('Error in input value.')\n",
    "    else:\n",
    "        # calling function with user input values\n",
    "        print(pseudo_random(m, a, c, seed, n))\n",
    "\n",
    "\n",
    "main()   "
   ]
  }
 ],
 "metadata": {
  "kernelspec": {
   "display_name": "Python 3",
   "language": "python",
   "name": "python3"
  },
  "language_info": {
   "codemirror_mode": {
    "name": "ipython",
    "version": 3
   },
   "file_extension": ".py",
   "mimetype": "text/x-python",
   "name": "python",
   "nbconvert_exporter": "python",
   "pygments_lexer": "ipython3",
   "version": "3.7.3"
  }
 },
 "nbformat": 4,
 "nbformat_minor": 2
}
