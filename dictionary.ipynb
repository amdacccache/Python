{
 "cells": [
  {
   "cell_type": "code",
   "execution_count": 9,
   "metadata": {},
   "outputs": [
    {
     "name": "stdout",
     "output_type": "stream",
     "text": [
      "Type a message. hello\n",
      "{'h': 1, 'e': 1, 'l': 2, 'o': 1}\n"
     ]
    }
   ],
   "source": [
    "'''\n",
    "Anna Daccache\n",
    "10/7/19\n",
    "CS5001\n",
    "Fall 2019\n",
    "Homework 4\n",
    "Dictionary Word Count\n",
    "'''\n",
    "\n",
    "\n",
    "def histogram(x):\n",
    "    # defining the dictionary function\n",
    "    dictionary = dict()\n",
    "    #utilizing a for loop to initialize the counter\n",
    "    for i in x:\n",
    "        if i not in dictionary:\n",
    "            dictionary[i] = 1\n",
    "        else:\n",
    "            dictionary[i] += 1\n",
    "    return dictionary\n",
    "\n",
    "# prompting the user for their message\n",
    "sentence = input('Type a message. ')\n",
    "print(histogram(sentence))"
   ]
  },
  {
   "cell_type": "code",
   "execution_count": null,
   "metadata": {},
   "outputs": [],
   "source": []
  }
 ],
 "metadata": {
  "kernelspec": {
   "display_name": "Python 3",
   "language": "python",
   "name": "python3"
  },
  "language_info": {
   "codemirror_mode": {
    "name": "ipython",
    "version": 3
   },
   "file_extension": ".py",
   "mimetype": "text/x-python",
   "name": "python",
   "nbconvert_exporter": "python",
   "pygments_lexer": "ipython3",
   "version": "3.7.3"
  }
 },
 "nbformat": 4,
 "nbformat_minor": 2
}
