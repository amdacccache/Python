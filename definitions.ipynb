{
 "cells": [
  {
   "cell_type": "code",
   "execution_count": null,
   "metadata": {},
   "outputs": [],
   "source": [
    "'''\n",
    "Anna Daccache\n",
    "CS5003\n",
    "Lab 2\n",
    "September 17, 2019\n",
    "\n",
    "sumN(n)\n",
    "a given value, n, is added to all its previous iterations\n",
    "\n",
    "sumNCubes(n)\n",
    "a given value, n, is added to all its previous iterations, cubed\n",
    "'''\n",
    "\n",
    "\n",
    "import math\n",
    "\n",
    "def main():\n",
    "    # prompting user to input number\n",
    "    natural_n = int(input('Please enter a number. '))\n",
    "    # utilizing if/else statement to check for positive integer\n",
    "    if natural_n < 0:\n",
    "        print ('Please enter a positive number.')\n",
    "    else:\n",
    "        sum = 0\n",
    "        # utilizing for loop to calculate sum of first n natural numbers\n",
    "        for n in range (1, natural_n + 1):\n",
    "            sum = sum + n\n",
    "\n",
    "        print ('The sum of the first', natural_n, 'natural numbers is', sum)\n",
    "\n",
    "    # prompting user to input number\n",
    "    cubed_y = int(input('Please enter a number. '))\n",
    "    # utilizing if/else statement to check for positive integer\n",
    "    if cubed_y < 0:\n",
    "        print ('Please enter a positive number.')\n",
    "    else:\n",
    "        CubeSum = 0\n",
    "        # utilizing for loop to calculate sum of first n cubed natural numbers\n",
    "        for y in range (1, cubed_y + 1):\n",
    "            CubeSum = CubeSum + (y * y * y)\n",
    "\n",
    "        print ('The sum of the first', cubed_y, 'cubed natural numbers is', CubeSum)\n",
    "\n",
    "\n",
    "main()"
   ]
  },
  {
   "cell_type": "code",
   "execution_count": null,
   "metadata": {},
   "outputs": [],
   "source": []
  }
 ],
 "metadata": {
  "kernelspec": {
   "display_name": "Python 3",
   "language": "python",
   "name": "python3"
  },
  "language_info": {
   "codemirror_mode": {
    "name": "ipython",
    "version": 3
   },
   "file_extension": ".py",
   "mimetype": "text/x-python",
   "name": "python",
   "nbconvert_exporter": "python",
   "pygments_lexer": "ipython3",
   "version": "3.7.3"
  }
 },
 "nbformat": 4,
 "nbformat_minor": 2
}
