{
 "cells": [
  {
   "cell_type": "code",
   "execution_count": 8,
   "metadata": {},
   "outputs": [
    {
     "name": "stdout",
     "output_type": "stream",
     "text": [
      "Enter the length of your list: 5\n",
      "Enter a number: 10\n",
      "Enter a number: 15\n",
      "Enter a number: -5\n",
      "Enter a number: 1000\n",
      "Enter a number: 2\n",
      "The sorted list is:\n",
      "-5\n",
      "2\n",
      "10\n",
      "15\n",
      "1000\n"
     ]
    }
   ],
   "source": [
    "'''\n",
    "Anna Daccache\n",
    "CS5001\n",
    "Fall 2019\n",
    "10/23/19\n",
    "HW 5\n",
    "Bubble Sort\n",
    "\n",
    "Test case 1:\n",
    "numbers = 1, 3, 2, 4, 0\n",
    "Output: 0, 1, 2, 3, 4, 5\n",
    "\n",
    "Test case 2:\n",
    "numbers = 1, 1, 1, 1, 0\n",
    "Output: 0, 1, 1, 1, 1\n",
    "\n",
    "Test case 3:\n",
    "numbers = 40, 20, 10, 30\n",
    "Output: 10, 20, 30, 40\n",
    "\n",
    "Test case 4:\n",
    "numbers = 5, 10, 8, 16, 2\n",
    "Output: 2, 5, 8, 10 ,16\n",
    "\n",
    "Test case 5:\n",
    "numbers = 17, -5, 20, 13, 11\n",
    "Output: -5, 11, 13, 17, 11\n",
    "'''\n",
    "\n",
    "\n",
    "def bubble_sort(numbers):\n",
    "    # sets the length of the list of numbers so the for loop doesn't infinitely run\n",
    "    n = len(numbers)\n",
    "\n",
    "    # for loop iterates through the list of numbers\n",
    "    for i in range(n):\n",
    "\n",
    "        # sets starting position (0) and how range will continue (n - i - 1)\n",
    "        for x in range(0, n - i - 1):\n",
    "\n",
    "            # iterates through the list of numbers\n",
    "            if numbers[x] > numbers[x + 1] :\n",
    "                # if the 2nd value is found to be less than the preceding value\n",
    "                # their positions are swapped\n",
    "                numbers[x], numbers[x + 1] = numbers[x + 1], numbers[x]\n",
    "\n",
    "\n",
    "def main():\n",
    "    numbers = []\n",
    "    # allows user to input list length\n",
    "    amount = int(input('Enter the length of your list: '))\n",
    "    # for loop allows user to enter a value for the list\n",
    "    # iterates through as many times as user called for in 'amount'\n",
    "    for n in range(amount):\n",
    "        value = int(input('Enter a number: '))\n",
    "        # function adds each new value to the list\n",
    "        numbers.append(value)\n",
    "\n",
    "    # calls bubble sort function\n",
    "    bubble_sort(numbers)\n",
    "    print (\"The sorted list is:\")\n",
    "    for i in range(len(numbers)):\n",
    "        # % is reuired to show that a specifier is about to be called\n",
    "        # i referes to a singal integer\n",
    "        print (\"%i\" %numbers[i])\n",
    "\n",
    "\n",
    "main() "
   ]
  },
  {
   "cell_type": "code",
   "execution_count": null,
   "metadata": {},
   "outputs": [],
   "source": []
  }
 ],
 "metadata": {
  "kernelspec": {
   "display_name": "Python 3",
   "language": "python",
   "name": "python3"
  },
  "language_info": {
   "codemirror_mode": {
    "name": "ipython",
    "version": 3
   },
   "file_extension": ".py",
   "mimetype": "text/x-python",
   "name": "python",
   "nbconvert_exporter": "python",
   "pygments_lexer": "ipython3",
   "version": "3.7.3"
  }
 },
 "nbformat": 4,
 "nbformat_minor": 2
}
