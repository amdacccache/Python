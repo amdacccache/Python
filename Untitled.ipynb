{
 "cells": [
  {
   "cell_type": "code",
   "execution_count": 24,
   "metadata": {},
   "outputs": [
    {
     "name": "stdout",
     "output_type": "stream",
     "text": [
      "a 6\n",
      "c 3\n",
      "e 5\n",
      "h 3\n",
      "m 2\n",
      "o 2\n",
      "p 2\n",
      "r 3\n",
      "s 3\n",
      "t 2\n"
     ]
    }
   ],
   "source": [
    "chars = \"abcdefghijklmnopqrstuvwxyz\"\n",
    "check_string = \"how many times does each character appears\"\n",
    "\n",
    "for char in chars:\n",
    "    count = check_string.count(char)\n",
    "    if count > 1:\n",
    "        print(char, count)"
   ]
  },
  {
   "cell_type": "code",
   "execution_count": 26,
   "metadata": {},
   "outputs": [
    {
     "name": "stdout",
     "output_type": "stream",
     "text": [
      "Enter a word: hey\n"
     ]
    }
   ],
   "source": [
    "def main():\n",
    "    phrase_input = input('Enter a word: ')\n",
    "    \n",
    "    phrase = phrase_input.lower()\n",
    "    \n",
    "    lst = ['a','b','c','d','e','f','g','h','i','j','k','l','m','n','o','p','q','r','s','t','u','v','w','x','y','z']\n",
    "\n",
    "    for i in lst: \n",
    "        count = phrase.count(char)\n",
    "        if count > 1:\n",
    "            print(char, count)\n",
    "\n",
    "main()"
   ]
  },
  {
   "cell_type": "code",
   "execution_count": 25,
   "metadata": {},
   "outputs": [
    {
     "name": "stdout",
     "output_type": "stream",
     "text": [
      "Enter a word: hello\n",
      "0\n",
      "0\n",
      "0\n",
      "0\n",
      "1\n",
      "0\n",
      "0\n",
      "1\n",
      "0\n",
      "0\n",
      "0\n",
      "2\n",
      "0\n",
      "0\n",
      "1\n",
      "0\n",
      "0\n",
      "0\n",
      "0\n",
      "0\n",
      "0\n",
      "0\n",
      "0\n",
      "0\n",
      "0\n",
      "0\n"
     ]
    }
   ],
   "source": [
    "def main():\n",
    "    phrase_input = input('Enter a word: ')\n",
    "    \n",
    "    phrase = phrase_input.lower()\n",
    "    \n",
    "    lst = ['a','b','c','d','e','f','g','h','i','j','k','l','m','n','o','p','q','r','s','t','u','v','w','x','y','z']\n",
    "\n",
    "    for i in range(0,26): \n",
    "        print(phrase.count(lst[i]))\n",
    "\n",
    "main()"
   ]
  },
  {
   "cell_type": "code",
   "execution_count": null,
   "metadata": {},
   "outputs": [],
   "source": []
  }
 ],
 "metadata": {
  "kernelspec": {
   "display_name": "Python 3",
   "language": "python",
   "name": "python3"
  },
  "language_info": {
   "codemirror_mode": {
    "name": "ipython",
    "version": 3
   },
   "file_extension": ".py",
   "mimetype": "text/x-python",
   "name": "python",
   "nbconvert_exporter": "python",
   "pygments_lexer": "ipython3",
   "version": "3.7.3"
  }
 },
 "nbformat": 4,
 "nbformat_minor": 2
}
