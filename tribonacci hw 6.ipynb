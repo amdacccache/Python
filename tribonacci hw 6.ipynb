{
 "cells": [
  {
   "cell_type": "code",
   "execution_count": 9,
   "metadata": {},
   "outputs": [
    {
     "name": "stdout",
     "output_type": "stream",
     "text": [
      "Enter a positive integer: 15\n",
      "3136\n"
     ]
    }
   ],
   "source": [
    "'''\n",
    "Anna Daccache\n",
    "CS 5001\n",
    "Fall 2019\n",
    "11/14/19\n",
    "HW 6\n",
    "Tribonacci\n",
    "\n",
    "Test Plan:\n",
    "\n",
    "Test Case 1:\n",
    "n = 4\n",
    "T = 4\n",
    "\n",
    "Test Case 2:\n",
    "n = 5\n",
    "T = 7\n",
    "\n",
    "Test Case 3:\n",
    "n = 0\n",
    "T = 0\n",
    "\n",
    "Test Case 4:\n",
    "n = 2\n",
    "T = 1\n",
    "\n",
    "Test Case 5:\n",
    "n = 15\n",
    "T = 3136\n",
    "'''\n",
    "class Solution:\n",
    "    def tribonacci(self, n: int) -> int:\n",
    "        # setting values that are always true\n",
    "        if n == 0: \n",
    "            return 0 \n",
    "        elif n == 1 or n == 2:\n",
    "            return 1\n",
    "        \n",
    "        # equating values to variables to be used in for loop\n",
    "        count = 2 \n",
    "        t_one = 0 \n",
    "        t_two = 1 \n",
    "        t_three = 1 \n",
    "        \n",
    "        # for loop utilized to iterate through the count\n",
    "        for i in range(count, n):\n",
    "            # reassigning values\n",
    "            T_n = t_one + t_two + t_three\n",
    "            t_one = t_two\n",
    "            t_two = t_three\n",
    "            t_three = T_n\n",
    "        \n",
    "        return T_n\n",
    "    \n",
    "    self = ''\n",
    "    # prompting user to input a value for n\n",
    "    n = int(input('Enter a positive integer: '))\n",
    "    # calling back to the function\n",
    "    print(tribonacci(self, n))"
   ]
  },
  {
   "cell_type": "code",
   "execution_count": null,
   "metadata": {},
   "outputs": [],
   "source": []
  }
 ],
 "metadata": {
  "kernelspec": {
   "display_name": "Python 3",
   "language": "python",
   "name": "python3"
  },
  "language_info": {
   "codemirror_mode": {
    "name": "ipython",
    "version": 3
   },
   "file_extension": ".py",
   "mimetype": "text/x-python",
   "name": "python",
   "nbconvert_exporter": "python",
   "pygments_lexer": "ipython3",
   "version": "3.7.3"
  }
 },
 "nbformat": 4,
 "nbformat_minor": 2
}
