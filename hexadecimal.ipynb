{
 "cells": [
  {
   "cell_type": "code",
   "execution_count": null,
   "metadata": {},
   "outputs": [],
   "source": [
    "'''\n",
    "Anna Daccache\n",
    "CS5001\n",
    "Fall 2019\n",
    "Homework 3\n",
    "Sept 30, 2019\n",
    "Hexadecimal\n",
    "\n",
    "Test Plan\n",
    "Test Case #1:\n",
    "    bi: 111, hex: 0x6f\n",
    "\n",
    "Test Case #2:\n",
    "    bi: 1010, hex: 0x3f2\n",
    "\n",
    "Test Case #3:\n",
    "    bi: 1001 0011, hex: 0x98bd9b\n",
    "\n",
    "Test Case #4:\n",
    "    bi: 1, hex: 0x1\n",
    "\n",
    "Test Case #5:\n",
    "    bi: 101, hex: 0x65\n",
    "'''\n",
    "\n",
    "\n",
    "def main():\n",
    "    while True:\n",
    "        print('Would you like to convert from binary or from hexadecimal? Otherwise type quit. ')\n",
    "        expansion = input()\n",
    "        if expansion == 'quit':\n",
    "            break\n",
    "        elif expansion in 'binary':\n",
    "            binary = int(input('Type in a binary value to be converted to hexadecimal. '))\n",
    "            if binary < 0:\n",
    "                print('Error: Please enter a binary value.')\n",
    "            else:\n",
    "                print('The Hexadecimal value of', binary, 'is', hex(binary))\n",
    "        elif expansion in 'hexadecimal':\n",
    "            hexadecimal = input('Type in a hexadecimal value to be converted to binary. ')\n",
    "            hexdec = int(hexadecimal, 16)\n",
    "            print('The Binary value of', hexadecimal, 'is', bin(hexdec))\n",
    "        else:\n",
    "            print('Enter \"binary\" or \"hexadecimal\"')\n",
    "\n",
    "main()"
   ]
  },
  {
   "cell_type": "code",
   "execution_count": null,
   "metadata": {},
   "outputs": [],
   "source": []
  }
 ],
 "metadata": {
  "kernelspec": {
   "display_name": "Python 3",
   "language": "python",
   "name": "python3"
  },
  "language_info": {
   "codemirror_mode": {
    "name": "ipython",
    "version": 3
   },
   "file_extension": ".py",
   "mimetype": "text/x-python",
   "name": "python",
   "nbconvert_exporter": "python",
   "pygments_lexer": "ipython3",
   "version": "3.7.3"
  }
 },
 "nbformat": 4,
 "nbformat_minor": 2
}
