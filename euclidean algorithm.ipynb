{
 "cells": [
  {
   "cell_type": "code",
   "execution_count": 1,
   "metadata": {},
   "outputs": [
    {
     "name": "stdout",
     "output_type": "stream",
     "text": [
      "Enter a positive integer: 15\n",
      "Enter another positive integer: 5\n",
      "5\n"
     ]
    }
   ],
   "source": [
    "'''\n",
    "Anna Daccache\n",
    "CS5001\n",
    "Fall 2019\n",
    "Homework 3\n",
    "Sept 30, 2019\n",
    "Euclidean\n",
    "\n",
    "Test Plan:\n",
    "Test Case #1\n",
    "    a: 100, b: 10, gcd: 10\n",
    "\n",
    "Test Case #2\n",
    "    a: 15, b: 30, gcd: 15\n",
    "    \n",
    "Test Case #3\n",
    "    a: 30, b: 160, gcd: 10\n",
    "    \n",
    "Test Case #4\n",
    "    a: 0, b: 0, gcd: 0\n",
    "    \n",
    "Test Case #5\n",
    "    a: 17, b: 127, gcd: 1\n",
    "'''\n",
    "\n",
    "\n",
    "import math\n",
    "\n",
    "\n",
    "def main():\n",
    "    # prompting user for both inputs\n",
    "    int_one = int(input('Enter a positive integer: '))\n",
    "    int_two = int(input('Enter another positive integer: '))\n",
    "    # employing a while loop\n",
    "    while int_two:\n",
    "        # unless int_two is zero than when b is divided by the result it's positive\n",
    "        int_one, int_two = int_two, int_one % int_two\n",
    "    \n",
    "    print(int_one)\n",
    "\n",
    "\n",
    "main()"
   ]
  },
  {
   "cell_type": "code",
   "execution_count": null,
   "metadata": {},
   "outputs": [],
   "source": []
  },
  {
   "cell_type": "code",
   "execution_count": null,
   "metadata": {},
   "outputs": [],
   "source": []
  }
 ],
 "metadata": {
  "kernelspec": {
   "display_name": "Python 3",
   "language": "python",
   "name": "python3"
  },
  "language_info": {
   "codemirror_mode": {
    "name": "ipython",
    "version": 3
   },
   "file_extension": ".py",
   "mimetype": "text/x-python",
   "name": "python",
   "nbconvert_exporter": "python",
   "pygments_lexer": "ipython3",
   "version": "3.7.3"
  }
 },
 "nbformat": 4,
 "nbformat_minor": 2
}
