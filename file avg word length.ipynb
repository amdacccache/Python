{
 "cells": [
  {
   "cell_type": "code",
   "execution_count": 3,
   "metadata": {},
   "outputs": [
    {
     "name": "stdout",
     "output_type": "stream",
     "text": [
      "The average length of words in the file is 4.94\n"
     ]
    }
   ],
   "source": [
    "'''\n",
    "Anna Daccache\n",
    "10/8/19\n",
    "CS5001\n",
    "Fall 2019\n",
    "Homework 4\n",
    "File Avg Word Count\n",
    "'''\n",
    "\n",
    "def average(length):\n",
    "    # calculating the average using the sum and length functions\n",
    "    return sum(length) / len(length)\n",
    "    \n",
    "# prompting user to enter a phrase using the input function\n",
    "file = open('bday song.txt')\n",
    "    \n",
    "# employing a for loop to read lines within the file\n",
    "for line in file:\n",
    "    # splitting up the sentence by making each word a substring\n",
    "    words = line.split()\n",
    "    # using the length function to count the number of words\n",
    "    word_length = [len(word) for word in words]\n",
    "    \n",
    "print('The average length of words in the file is', round(average(word_length), 2))"
   ]
  }
 ],
 "metadata": {
  "kernelspec": {
   "display_name": "Python 3",
   "language": "python",
   "name": "python3"
  },
  "language_info": {
   "codemirror_mode": {
    "name": "ipython",
    "version": 3
   },
   "file_extension": ".py",
   "mimetype": "text/x-python",
   "name": "python",
   "nbconvert_exporter": "python",
   "pygments_lexer": "ipython3",
   "version": "3.7.3"
  }
 },
 "nbformat": 4,
 "nbformat_minor": 2
}
