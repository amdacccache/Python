{
 "cells": [
  {
   "cell_type": "code",
   "execution_count": 1,
   "metadata": {},
   "outputs": [
    {
     "name": "stdout",
     "output_type": "stream",
     "text": [
      "Enter a positive integer.4\n"
     ]
    },
    {
     "ename": "NameError",
     "evalue": "name 'calculateSum' is not defined",
     "output_type": "error",
     "traceback": [
      "\u001b[0;31m---------------------------------------------------------------------------\u001b[0m",
      "\u001b[0;31mNameError\u001b[0m                                 Traceback (most recent call last)",
      "\u001b[0;32m<ipython-input-1-27d5d8b6a909>\u001b[0m in \u001b[0;36m<module>\u001b[0;34m\u001b[0m\n\u001b[1;32m     51\u001b[0m \u001b[0;31m# user is prompted to enter a value to serve as the n-th term\u001b[0m\u001b[0;34m\u001b[0m\u001b[0;34m\u001b[0m\u001b[0;34m\u001b[0m\u001b[0m\n\u001b[1;32m     52\u001b[0m \u001b[0mn\u001b[0m \u001b[0;34m=\u001b[0m \u001b[0mint\u001b[0m\u001b[0;34m(\u001b[0m\u001b[0minput\u001b[0m\u001b[0;34m(\u001b[0m\u001b[0;34m'Enter a positive integer.'\u001b[0m\u001b[0;34m)\u001b[0m\u001b[0;34m)\u001b[0m\u001b[0;34m\u001b[0m\u001b[0;34m\u001b[0m\u001b[0m\n\u001b[0;32m---> 53\u001b[0;31m \u001b[0mprint\u001b[0m\u001b[0;34m(\u001b[0m\u001b[0;34m\"The sum is\"\u001b[0m \u001b[0;34m,\u001b[0m \u001b[0mcalculateSum\u001b[0m\u001b[0;34m(\u001b[0m\u001b[0mn\u001b[0m\u001b[0;34m)\u001b[0m\u001b[0;34m)\u001b[0m\u001b[0;34m\u001b[0m\u001b[0;34m\u001b[0m\u001b[0m\n\u001b[0m",
      "\u001b[0;31mNameError\u001b[0m: name 'calculateSum' is not defined"
     ]
    }
   ],
   "source": [
    "'''\n",
    "Anna Daccache\n",
    "CS5001\n",
    "Fall 2019\n",
    "Homework 3\n",
    "Oct 1, 2019\n",
    "Fibonnaci\n",
    "\n",
    "Test Plan:\n",
    "Test Case #1\n",
    "    n: 4, sum: 7\n",
    "\n",
    "Test Case #2\n",
    "    n: 0, sum: 0\n",
    "    \n",
    "Test Case #3\n",
    "    n: 1, sum: 1\n",
    "    \n",
    "Test Case #4\n",
    "    n: 100, sum: 927372692193078999175\n",
    "    \n",
    "Test Case #5\n",
    "    n: 27, sum: 514228\n",
    "'''\n",
    "\n",
    "\n",
    "def findSum(n):\n",
    "    print('We will calculate the sum of the values preceding the n-th term in the fibonacci sequence')\n",
    "    # a brute force approach\n",
    "    if n <= 0:\n",
    "        return 0\n",
    "    elif n == 1: \n",
    "        return 1\n",
    "       \n",
    "    # f(n+1) = f(n) + f(n - 1)\n",
    "    #reevaulation of relationship\n",
    "    fibonacci = 0 * (n + (n - 1))\n",
    "    fibonacci[1] = 1\n",
    "   \n",
    "    # initial recursion to yield result\n",
    "    x = fibonacci[0] + fibonacci[1] \n",
    "   \n",
    "    # remaining terms are used to find the sum using fib formula\n",
    "    for i in range(2, n + 1) :\n",
    "        # f(n) = f(n - 1) + f(n - 2) per ThinkPython textbook\n",
    "        fibonacci[i] = fibonacci[i-1] + fibonacci[i-2] \n",
    "        x = x + fibonacci[i] \n",
    "          \n",
    "    return x\n",
    "\n",
    "# user is prompted to enter a value to serve as the n-th term\n",
    "n = int(input('Enter a positive integer.')) \n",
    "print(\"The sum is\" , findSum(n)) "
   ]
  },
  {
   "cell_type": "code",
   "execution_count": null,
   "metadata": {},
   "outputs": [],
   "source": []
  }
 ],
 "metadata": {
  "kernelspec": {
   "display_name": "Python 3",
   "language": "python",
   "name": "python3"
  },
  "language_info": {
   "codemirror_mode": {
    "name": "ipython",
    "version": 3
   },
   "file_extension": ".py",
   "mimetype": "text/x-python",
   "name": "python",
   "nbconvert_exporter": "python",
   "pygments_lexer": "ipython3",
   "version": "3.7.3"
  }
 },
 "nbformat": 4,
 "nbformat_minor": 2
}
