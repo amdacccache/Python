{
 "cells": [
  {
   "cell_type": "code",
   "execution_count": 5,
   "metadata": {},
   "outputs": [
    {
     "name": "stdout",
     "output_type": "stream",
     "text": [
      "Enter an integer between 2 and 100: 73\n",
      "73 is a prime number.\n"
     ]
    }
   ],
   "source": [
    "'''\n",
    "Anna Daccache\n",
    "CS5003\n",
    "Lab 2\n",
    "September 17, 2019\n",
    "\n",
    "Test Plan:\n",
    "Test Case #1\n",
    "    Enter an integer between 2 and 100: 50\n",
    "    50 is not a prime number.\n",
    "\n",
    "Test Case #2\n",
    "    Enter an integer between 2 and 100: 73\n",
    "    73 is a prime number.\n",
    "\n",
    "Test Case #3\n",
    "    Enter an integer between 2 and 100: 12\n",
    "    12 is not a prime number.\n",
    "\n",
    "Test Case #4\n",
    "    Enter an integer between 2 and 100: 27\n",
    "    27 is not a prime number.\n",
    "\n",
    "Test Case #5\n",
    "    Enter an integer between 2 and 100: 105\n",
    "    105 is not an integer between 2 and 100.\n",
    "'''\n",
    "\n",
    "\n",
    "import math\n",
    "\n",
    "def main():\n",
    "    # prompting user to input an integer within the specified ranged\n",
    "    integer = int(input('Enter an integer between 2 and 100: '))\n",
    "    # utilizing if statements to verify if the value is a prime number\n",
    "    if integer > 100:\n",
    "        print (integer, 'is not an integer between 2 and 100.')\n",
    "    elif integer % 2 == 0:\n",
    "        print (integer, 'is not a prime number.')\n",
    "    elif integer % 3 == 0:\n",
    "        print (integer, 'is not a prime number.')\n",
    "    elif integer % 5 == 0:\n",
    "        print (integer, 'is not a prime numnber.')\n",
    "    elif integer % 7 == 0:\n",
    "        print (integer, 'is not a prime number.')\n",
    "    else:\n",
    "        print (integer, 'is a prime number.')\n",
    "\n",
    "main()"
   ]
  }
 ],
 "metadata": {
  "kernelspec": {
   "display_name": "Python 3",
   "language": "python",
   "name": "python3"
  },
  "language_info": {
   "codemirror_mode": {
    "name": "ipython",
    "version": 3
   },
   "file_extension": ".py",
   "mimetype": "text/x-python",
   "name": "python",
   "nbconvert_exporter": "python",
   "pygments_lexer": "ipython3",
   "version": "3.7.3"
  }
 },
 "nbformat": 4,
 "nbformat_minor": 2
}
