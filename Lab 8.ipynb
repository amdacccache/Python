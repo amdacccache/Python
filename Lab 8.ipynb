{
 "cells": [
  {
   "cell_type": "code",
   "execution_count": 2,
   "metadata": {},
   "outputs": [
    {
     "name": "stdout",
     "output_type": "stream",
     "text": [
      "How many steps do you want to climb? 10\n",
      "There are 274 ways to climb the stairs.\n"
     ]
    }
   ],
   "source": [
    "count_steps_dic = {}\n",
    "\n",
    "def count_steps(n): \n",
    "\n",
    "    if n == 1: \n",
    "        return 1\n",
    "    elif n == 2: \n",
    "        return 2\n",
    "    elif n == 3:\n",
    "        return 4\n",
    "    \n",
    "    elif n > 3:\n",
    "        ways_climb = count_steps(n - 1) + count_steps(n - 2) + count_steps(n - 3)\n",
    "        count_steps_dic[n] = ways_climb\n",
    "        return ways_climb\n",
    "\n",
    "n = int(input('How many steps do you want to climb? '))\n",
    "print('There are', count_steps(n), 'ways to climb the stairs.')"
   ]
  },
  {
   "cell_type": "code",
   "execution_count": null,
   "metadata": {},
   "outputs": [],
   "source": []
  }
 ],
 "metadata": {
  "kernelspec": {
   "display_name": "Python 3",
   "language": "python",
   "name": "python3"
  },
  "language_info": {
   "codemirror_mode": {
    "name": "ipython",
    "version": 3
   },
   "file_extension": ".py",
   "mimetype": "text/x-python",
   "name": "python",
   "nbconvert_exporter": "python",
   "pygments_lexer": "ipython3",
   "version": "3.7.3"
  }
 },
 "nbformat": 4,
 "nbformat_minor": 2
}
