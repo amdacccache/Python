{
 "cells": [
  {
   "cell_type": "code",
   "execution_count": 5,
   "metadata": {},
   "outputs": [
    {
     "name": "stdout",
     "output_type": "stream",
     "text": [
      "How old are you?30\n",
      "How many years have you been a citizen?5\n",
      "You are eligible to be a Representative.\n"
     ]
    }
   ],
   "source": [
    "'''\n",
    "Eligibility\n",
    "CS5001\n",
    "Fall 2019\n",
    "Homework 3\n",
    "\n",
    "Test Plan:\n",
    "    Test Case #1\n",
    "    age: 29, years a citizen: 4, eligibility: none\n",
    "    \n",
    "    Test Case #2\n",
    "    age: 50, years a citizen: 7, eligibility: House\n",
    "    \n",
    "    Test Case #3 \n",
    "    age: 29, years a citizen: 16, eligibility: House\n",
    "    \n",
    "    Test Case #4 \n",
    "    age: 45, years a citizen: 45, eligibility: House and Senate\n",
    "    \n",
    "    Test Case #5 \n",
    "    age: 33, years a citizen: 1, eligibility: none\n",
    "'''\n",
    "\n",
    "\n",
    "def main():\n",
    "    # prompts user to input their age and years they've been a citizen\n",
    "    age = int(input('How old are you? '))\n",
    "    years_citizen = int(input('How many years have you been a citizen? '))\n",
    "    #if statement iniated by age and then broken down by if statements on citizenship\n",
    "    if 27 <= age < 30:\n",
    "        if years_citizen >= 5:\n",
    "            print('You are eligible to be a Representative.')\n",
    "        else:\n",
    "            print('You are not eligible to be in the House or Senate.')\n",
    "    elif age >= 30:\n",
    "        if 5 <= years_citizen < 9:\n",
    "            print('You are eligible to be a Representative.')\n",
    "        elif years_citizen >= 9:\n",
    "            print('You are eligible to be a Representative or a Senator.')\n",
    "        else:\n",
    "            print('You are not eligible to be in the House or Senate.')\n",
    "    else:\n",
    "        print('You are not eligible to be in the House or Senate.')\n",
    "\n",
    "\n",
    "main()"
   ]
  }
 ],
 "metadata": {
  "kernelspec": {
   "display_name": "Python 3",
   "language": "python",
   "name": "python3"
  },
  "language_info": {
   "codemirror_mode": {
    "name": "ipython",
    "version": 3
   },
   "file_extension": ".py",
   "mimetype": "text/x-python",
   "name": "python",
   "nbconvert_exporter": "python",
   "pygments_lexer": "ipython3",
   "version": "3.7.3"
  }
 },
 "nbformat": 4,
 "nbformat_minor": 2
}
