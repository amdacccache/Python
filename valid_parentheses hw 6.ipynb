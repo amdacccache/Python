{
 "cells": [
  {
   "cell_type": "code",
   "execution_count": 2,
   "metadata": {},
   "outputs": [
    {
     "name": "stdout",
     "output_type": "stream",
     "text": [
      "Write an expression: {}\n"
     ]
    }
   ],
   "source": [
    "'''\n",
    "Anna Daccache\n",
    "CS5001\n",
    "Fall 2019\n",
    "11/12/19\n",
    "HW 6\n",
    "Valid Parentheses\n",
    "\n",
    "Test Plan\n",
    "\n",
    "Practice Test 1:\n",
    "phrase = (), balanced\n",
    "\n",
    "Practice Test 2:\n",
    "phrase = ()[]{}, balanced\n",
    "\n",
    "Practice Test 3:\n",
    "phrase = (], not balanced\n",
    "\n",
    "Practice Test 4:\n",
    "phrase = ([)], not balanced\n",
    "\n",
    "Practice Test 5:\n",
    "phrase = {[]}, balanced\n",
    "'''\n",
    "\n",
    "class Solution(object):\n",
    "    def isValid(self, s):\n",
    "        \n",
    "        Stack = []\n",
    "        # using a list to identify opening brackets\n",
    "        opened = {'(', '[', '{'}\n",
    "        # establishing each element in the input\n",
    "        for i in s:\n",
    "            # if that element is an opening bracket, it is saved in Stack\n",
    "            if i in opened:\n",
    "                Stack += i\n",
    "            \n",
    "            else:\n",
    "                # if not an opening bracket it's not balanced\n",
    "                if not Stack:\n",
    "                    return False\n",
    "                \n",
    "                # establishing the action of that top element\n",
    "                first = Stack.pop()\n",
    "                # the last opened should be first closed \n",
    "                # so if not proper pair brackets aren't balanced\n",
    "                if first == '(' and i != ')':\n",
    "                    return False\n",
    "                elif first == '[' and i != ']':\n",
    "                    return False\n",
    "                elif first == '{' and i != '}':\n",
    "                    return False\n",
    "            \n",
    "        return not Stack\n",
    "    \n",
    "s = input('Write an expression: ')"
   ]
  }
 ],
 "metadata": {
  "kernelspec": {
   "display_name": "Python 3",
   "language": "python",
   "name": "python3"
  },
  "language_info": {
   "codemirror_mode": {
    "name": "ipython",
    "version": 3
   },
   "file_extension": ".py",
   "mimetype": "text/x-python",
   "name": "python",
   "nbconvert_exporter": "python",
   "pygments_lexer": "ipython3",
   "version": "3.7.3"
  }
 },
 "nbformat": 4,
 "nbformat_minor": 2
}
