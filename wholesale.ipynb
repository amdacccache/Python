{
 "cells": [
  {
   "cell_type": "code",
   "execution_count": 9,
   "metadata": {},
   "outputs": [
    {
     "name": "stdout",
     "output_type": "stream",
     "text": [
      "How many copies are you ordering? 5\n",
      "The wholesale cost of your books is: $74.85\n",
      "The shipping cost is: $6.75\n",
      "Your total cost is: $81.6\n"
     ]
    }
   ],
   "source": [
    "'''\n",
    "Anna Daccache\n",
    "Wholesale\n",
    "CS 5001\n",
    "Fall 2019\n",
    "Homework 1\n",
    "\n",
    "Test Plan:\n",
    "Test Case #1\n",
    "    2 Books: $29.94 cost, $3.75 shipping, $33.69 total cost\n",
    "    \n",
    "Test Case #2\n",
    "    8 Books: $119.76 cost, $8.25 shipping, $128.01 total cost\n",
    "    \n",
    "Test Case #3\n",
    "    50 Books: $748.76 cost, $39.75 shipping, $788.51 total cost\n",
    "'''\n",
    "\n",
    "\n",
    "def main():\n",
    "    #prompting user to input how many copies they are ordering\n",
    "    copies_answer = input('How many copies are you ordering? ')\n",
    "    copies = int(copies_answer)\n",
    "\n",
    "    #calculating the wholesale cost based on price and discount provided \n",
    "    cover_price = 24.95\n",
    "    discount = 0.6\n",
    "    wholesale_cost = copies * cover_price * discount\n",
    "    print('The wholesale cost of your books is: $', round(wholesale_cost, 2), sep = '')\n",
    "\n",
    "    #calculating shipping cost based on initial and follow up fees\n",
    "    shipping_cost = 3 + (0.75 * copies) \n",
    "    print ('The shipping cost is: $', round(shipping_cost, 2), sep = '')\n",
    "\n",
    "    #calculating total cost by adding the wholesale and shipping costs\n",
    "    total = wholesale_cost + shipping_cost \n",
    "    print ('Your total cost is: $', round(total, 2), sep = '')\n",
    "\n",
    "\n",
    "main()"
   ]
  }
 ],
 "metadata": {
  "kernelspec": {
   "display_name": "Python 3",
   "language": "python",
   "name": "python3"
  },
  "language_info": {
   "codemirror_mode": {
    "name": "ipython",
    "version": 3
   },
   "file_extension": ".py",
   "mimetype": "text/x-python",
   "name": "python",
   "nbconvert_exporter": "python",
   "pygments_lexer": "ipython3",
   "version": "3.7.3"
  }
 },
 "nbformat": 4,
 "nbformat_minor": 2
}
