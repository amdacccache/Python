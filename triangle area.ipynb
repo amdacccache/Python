{
 "cells": [
  {
   "cell_type": "code",
   "execution_count": 16,
   "metadata": {},
   "outputs": [
    {
     "name": "stdout",
     "output_type": "stream",
     "text": [
      "What is the length of side a? 10\n",
      "What is the length of side b? 10\n",
      "What is the length of side c? 10\n",
      "This is not a triangle. The sum of sides a and b must be greater than side c.\n"
     ]
    }
   ],
   "source": [
    "'''\n",
    "Anna Daccache\n",
    "CS5003\n",
    "Lab 2\n",
    "September 17, 2019\n",
    "\n",
    "Test Plan:\n",
    "Test Case #1\n",
    "    a = 5, b = 6, c = 7\n",
    "    s = 9\n",
    "    A = 14.70\n",
    "\n",
    "Test Case #2\n",
    "    a = 7, b = 10, c = 15\n",
    "    s = 16\n",
    "    A = 29.39\n",
    "\n",
    "Test Case #3\n",
    "    a = 1, b = 10, c = 10\n",
    "    s = 10.5\n",
    "    A = 24.94\n",
    "\n",
    "Test Case #4\n",
    "    a = 14.5, b = 10.5, c = 24\n",
    "    s = 25.0\n",
    "    A = 41.41\n",
    "\n",
    "Test Case #5\n",
    "    a = 4, b = 8, c = 11\n",
    "    s = 11.5\n",
    "    A = 8.10\n",
    "'''\n",
    "\n",
    "\n",
    "import math\n",
    "\n",
    "def main():\n",
    "    # prompting user to input value of triangle sides\n",
    "    a = float(input('What is the length of side a? '))\n",
    "    b = float(input('What is the length of side b? '))\n",
    "    c = float(input('What is the length of side c? '))\n",
    "    \n",
    "    # employed an if, else statement to account for Triangle Inequality Theorem\n",
    "    if a + b >= c:\n",
    "        print ('This is not a triangle. The sum of sides a and b must be greater than side c.')\n",
    "    else:\n",
    "        # calculating s to input into the equation to calculate area\n",
    "        s = (a + b + c) / 2\n",
    "        A = math.sqrt(s * (s - a) * (s - b) * (s - c))\n",
    "        print ('The area of the triangle is', round(A, 2))\n",
    "\n",
    "\n",
    "main()"
   ]
  }
 ],
 "metadata": {
  "kernelspec": {
   "display_name": "Python 3",
   "language": "python",
   "name": "python3"
  },
  "language_info": {
   "codemirror_mode": {
    "name": "ipython",
    "version": 3
   },
   "file_extension": ".py",
   "mimetype": "text/x-python",
   "name": "python",
   "nbconvert_exporter": "python",
   "pygments_lexer": "ipython3",
   "version": "3.7.3"
  }
 },
 "nbformat": 4,
 "nbformat_minor": 2
}
