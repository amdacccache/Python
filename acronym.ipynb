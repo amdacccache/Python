{
 "cells": [
  {
   "cell_type": "code",
   "execution_count": null,
   "metadata": {},
   "outputs": [],
   "source": [
    "'''\n",
    "Anna Daccache\n",
    "10/7/19\n",
    "CS5001\n",
    "Fall 2019\n",
    "Homework 4\n",
    "Acronyms\n",
    "'''\n",
    "\n",
    "\n",
    "def main():\n",
    "    # prompting user to enter a phrase using the input function\n",
    "    sentence = input('Type a message you would like to be turned into an acronym. ')\n",
    "    # splitting up the sentence by making each word a substring\n",
    "    split_sentence = sentence.split()\n",
    "\n",
    "    acronym = ''\n",
    "    # for loop iterates through each substring\n",
    "    for word in split_sentence:\n",
    "        # calls upon first letter of each word, capitalizes it\n",
    "        acronym = acronym + word[0].upper()\n",
    "\n",
    "    print('Your acronym is', acronym)\n",
    "\n",
    "\n",
    "main()"
   ]
  }
 ],
 "metadata": {
  "kernelspec": {
   "display_name": "Python 3",
   "language": "python",
   "name": "python3"
  },
  "language_info": {
   "codemirror_mode": {
    "name": "ipython",
    "version": 3
   },
   "file_extension": ".py",
   "mimetype": "text/x-python",
   "name": "python",
   "nbconvert_exporter": "python",
   "pygments_lexer": "ipython3",
   "version": "3.7.3"
  }
 },
 "nbformat": 4,
 "nbformat_minor": 2
}
