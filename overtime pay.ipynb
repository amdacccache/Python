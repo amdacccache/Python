{
 "cells": [
  {
   "cell_type": "code",
   "execution_count": 11,
   "metadata": {},
   "outputs": [
    {
     "name": "stdout",
     "output_type": "stream",
     "text": [
      "How many hours do you work a week? 41\n",
      "How much are you paid per hour? 20\n",
      "You made $850.0\n"
     ]
    }
   ],
   "source": [
    "'''\n",
    "Overtime Pay\n",
    "CS5001\n",
    "Fall 2019\n",
    "Homework 3\n",
    "\n",
    "Test Plan:\n",
    "    Test Case #1\n",
    "    20 hrs, $10/hr, $200\n",
    "    \n",
    "    Test Case #2\n",
    "    43 hrs, $17/hr, $756.50\n",
    "    \n",
    "    Test Case #3 \n",
    "    2 hrs, $45/hr, $90\n",
    "    \n",
    "    Test Case #4 \n",
    "    51 hrs, $100.75, $5692.38\n",
    "    \n",
    "    Test Case #5 \n",
    "    12 hrs, $38/hr, $456\n",
    "    \n",
    "'''\n",
    "\n",
    "\n",
    "def main():\n",
    "    # prompts user to input how much they work and how much they make\n",
    "    hours_worked = int(input('How many hours do you work a week? '))\n",
    "    hourly_wage = int(input('How much are you paid per hour? '))\n",
    "    overtime_hours = int(hours_worked - 40)\n",
    "    # calculates the different types of pay depending on if overtime occurs\n",
    "    regular_pay = hours_worked * hourly_wage\n",
    "    overtime_pay = (overtime_hours) * (hourly_wage * 1.5)\n",
    "    total_pay = regular_pay + overtime_pay\n",
    "    # if statement employed to determine what pay level someone will have\n",
    "    if hours_worked > 40:\n",
    "        print('You made $', total_pay, sep='')\n",
    "    else:\n",
    "        print('You made $', regular_pay, sep='')\n",
    "\n",
    "\n",
    "main()"
   ]
  },
  {
   "cell_type": "code",
   "execution_count": null,
   "metadata": {},
   "outputs": [],
   "source": []
  },
  {
   "cell_type": "code",
   "execution_count": null,
   "metadata": {},
   "outputs": [],
   "source": []
  }
 ],
 "metadata": {
  "kernelspec": {
   "display_name": "Python 3",
   "language": "python",
   "name": "python3"
  },
  "language_info": {
   "codemirror_mode": {
    "name": "ipython",
    "version": 3
   },
   "file_extension": ".py",
   "mimetype": "text/x-python",
   "name": "python",
   "nbconvert_exporter": "python",
   "pygments_lexer": "ipython3",
   "version": "3.7.3"
  }
 },
 "nbformat": 4,
 "nbformat_minor": 2
}
