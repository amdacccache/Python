{
 "cells": [
  {
   "cell_type": "code",
   "execution_count": 33,
   "metadata": {},
   "outputs": [
    {
     "name": "stdout",
     "output_type": "stream",
     "text": [
      "The original text is EOXHMHDQV\n",
      "The decrypted text is bluejeans\n",
      "The original text is WHVW WRGDB\n",
      "The decrypted text is test today\n",
      "The original text is HDW GLP VXP\n",
      "The decrypted text is eat dim sum\n"
     ]
    }
   ],
   "source": [
    "'''\n",
    "Anna Daccache\n",
    "CS5002\n",
    "Fall 2019\n",
    "Lab 4\n",
    "Oct 1, 2019\n",
    "Cipher\n",
    "'''\n",
    "\n",
    "def decrypt(encryptedfile):\n",
    "    # Decrypting the code and returning plaintext\n",
    "    result = ''\n",
    "    word = encryptedfile.lower()\n",
    "\n",
    "    for i in word:\n",
    "        if 97 <= ord(i) <= 122:\n",
    "            key = ord(i)\n",
    "            code = ((key - 3) - ord('a')) % 26\n",
    "            change = code + 97\n",
    "            final = chr(change)\n",
    "            result += final\n",
    "        else:\n",
    "            result += i\n",
    "\n",
    "    return result\n",
    "\n",
    "\n",
    "def main():\n",
    "    # assigning the file to a value\n",
    "    encryptedfile = open('cipher.txt')\n",
    "    # employing a for loop to read lines within the file\n",
    "    for line in encryptedfile:\n",
    "        word = line.strip()\n",
    "        message = decrypt(word)\n",
    "        print('The original text is', word, 'the decrypted is', message)\n",
    "\n",
    "\n",
    "main()"
   ]
  },
  {
   "cell_type": "code",
   "execution_count": null,
   "metadata": {},
   "outputs": [],
   "source": []
  }
 ],
 "metadata": {
  "kernelspec": {
   "display_name": "Python 3",
   "language": "python",
   "name": "python3"
  },
  "language_info": {
   "codemirror_mode": {
    "name": "ipython",
    "version": 3
   },
   "file_extension": ".py",
   "mimetype": "text/x-python",
   "name": "python",
   "nbconvert_exporter": "python",
   "pygments_lexer": "ipython3",
   "version": "3.7.3"
  }
 },
 "nbformat": 4,
 "nbformat_minor": 2
}
