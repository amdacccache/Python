{
 "cells": [
  {
   "cell_type": "code",
   "execution_count": 18,
   "metadata": {},
   "outputs": [
    {
     "name": "stdout",
     "output_type": "stream",
     "text": [
      "Enter a value to search for: -20\n",
      "The location of the value is: 1\n"
     ]
    }
   ],
   "source": [
    "'''\n",
    "Anna Daccache\n",
    "CS5001\n",
    "Fall 2019\n",
    "10/23/19\n",
    "HW 5\n",
    "Prime\n",
    "\n",
    "Test Plan\n",
    "\n",
    "Test Case 1:\n",
    "Input: x = 4, numbers = 1, 2, 3, 4, 5\n",
    "Output: 3\n",
    "\n",
    "Test case 2:\n",
    "Input: x = 10, numbers = 0, 1, 2, 3, 4, 5\n",
    "Output: None\n",
    "\n",
    "Test case 3:\n",
    "Input: x = -1, numbers = -3, -1, 0, 4, 5, 6\n",
    "Output: 1\n",
    "\n",
    "Test case 4:\n",
    "Input: x = 17, numbers = 5, 10, 23, 17, 4\n",
    "Output: 3\n",
    "\n",
    "Test case 5:\n",
    "Input: x = -10, numbers = -3, -1, 12, 24, 36, 48\n",
    "Output: None\n",
    "'''\n",
    "\n",
    "\n",
    "def binary_search(numbers, user_input):\n",
    "    # parameters; numbers - array,\n",
    "    # user_input - value user is searching for\n",
    "    # setting high and low values to set range of search\n",
    "    low = 0\n",
    "    high = len(numbers)\n",
    "    # employing while loop to iterate through the array of numbers\n",
    "    while low < high:\n",
    "        # equation calculates the mid value\n",
    "        # depending on user input and based on mid value\n",
    "        # the search will go high or low on the array\n",
    "        i = low + (high - low) // 2\n",
    "        location = numbers[i]\n",
    "        # if statements used to determine position of input value\n",
    "        # returns position mid value if it equates input\n",
    "        if user_input == location:\n",
    "            return i\n",
    "        # returns position of low value if it equates input\n",
    "        elif user_input > location:\n",
    "            if low == i:\n",
    "                break\n",
    "            low = i\n",
    "        # returns position of high value if input is greater than mid position\n",
    "        elif user_input < location:\n",
    "            high = i\n",
    "\n",
    "user_input = int(input('Enter a value to search for: '))\n",
    "print ('The location of the value is:', binary_search([10, -20, 15, 17, 3, 666], user_input))"
   ]
  }
 ],
 "metadata": {
  "kernelspec": {
   "display_name": "Python 3",
   "language": "python",
   "name": "python3"
  },
  "language_info": {
   "codemirror_mode": {
    "name": "ipython",
    "version": 3
   },
   "file_extension": ".py",
   "mimetype": "text/x-python",
   "name": "python",
   "nbconvert_exporter": "python",
   "pygments_lexer": "ipython3",
   "version": "3.7.3"
  }
 },
 "nbformat": 4,
 "nbformat_minor": 2
}
