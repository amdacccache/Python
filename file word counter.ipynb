{
 "cells": [
  {
   "cell_type": "code",
   "execution_count": 12,
   "metadata": {},
   "outputs": [
    {
     "name": "stdout",
     "output_type": "stream",
     "text": [
      "There are 16 word(s) in the file.\n"
     ]
    }
   ],
   "source": [
    "'''\n",
    "Anna Daccache\n",
    "10/7/19\n",
    "CS5001\n",
    "Fall 2019\n",
    "Homework 4\n",
    "File Word Count\n",
    "'''\n",
    "\n",
    "\n",
    "def main():\n",
    "     # prompting user to enter a phrase using the input function\n",
    "    file = open('words.txt')\n",
    "    \n",
    "    # employing a for loop to read lines within the file\n",
    "    for line in file:\n",
    "        # splitting up the sentence by making each word a substring\n",
    "        word = line.split()\n",
    "        # using the length function to count the number of words\n",
    "        amount = len(word)\n",
    "    \n",
    "    print('There are', amount, 'word(s) in the file.')\n",
    "\n",
    "\n",
    "main()"
   ]
  },
  {
   "cell_type": "code",
   "execution_count": null,
   "metadata": {},
   "outputs": [],
   "source": []
  }
 ],
 "metadata": {
  "kernelspec": {
   "display_name": "Python 3",
   "language": "python",
   "name": "python3"
  },
  "language_info": {
   "codemirror_mode": {
    "name": "ipython",
    "version": 3
   },
   "file_extension": ".py",
   "mimetype": "text/x-python",
   "name": "python",
   "nbconvert_exporter": "python",
   "pygments_lexer": "ipython3",
   "version": "3.7.3"
  }
 },
 "nbformat": 4,
 "nbformat_minor": 2
}
