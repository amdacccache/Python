{
 "cells": [
  {
   "cell_type": "code",
   "execution_count": null,
   "metadata": {},
   "outputs": [],
   "source": [
    "'''\n",
    "    CS5001\n",
    "    LAB1\n",
    "    FALL 2019\n",
    "    Anna Daccache and Shyla Suri\n",
    "'''\n",
    "\n",
    "def main():\n",
    "    \n",
    "    \n",
    "    # Prompting user to input the bill amount\n",
    "    bill_prompt = 'What was the total amount of the bill?\\n'\n",
    "    bill = float(input(bill_prompt))\n",
    "\n",
    "    # Prompting user to input the tip\n",
    "    tip_prompt = 'What is everyone willing to tip? (enter value between 0-1)\\n'\n",
    "    tip = float(input(tip_prompt))\n",
    "\n",
    "    # Prompting user to input the number of people\n",
    "    n_prompt = 'How many people are splitting the bill?\\n'\n",
    "    n = int(input(n_prompt))\n",
    "\n",
    "    # Calculating the amount each person will owe by adding up the values input by the user\n",
    "    cost = (bill + bill * tip) / n\n",
    "    print('Everyone cough up $', cost, sep='')\n",
    "\n",
    "\n",
    "main()\n",
    "\n"
   ]
  }
 ],
 "metadata": {
  "kernelspec": {
   "display_name": "Python 3",
   "language": "python",
   "name": "python3"
  },
  "language_info": {
   "codemirror_mode": {
    "name": "ipython",
    "version": 3
   },
   "file_extension": ".py",
   "mimetype": "text/x-python",
   "name": "python",
   "nbconvert_exporter": "python",
   "pygments_lexer": "ipython3",
   "version": "3.7.3"
  }
 },
 "nbformat": 4,
 "nbformat_minor": 2
}
