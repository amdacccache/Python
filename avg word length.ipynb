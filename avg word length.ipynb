{
 "cells": [
  {
   "cell_type": "code",
   "execution_count": 7,
   "metadata": {},
   "outputs": [
    {
     "name": "stdout",
     "output_type": "stream",
     "text": [
      "Write a sentence: hello you mother fucking beast\n",
      "The average length of words in your sentence is 5.2\n"
     ]
    }
   ],
   "source": [
    "'''\n",
    "Anna Daccache\n",
    "10/7/19\n",
    "CS5001\n",
    "Fall 2019\n",
    "Homework 4\n",
    "Averge Word Length\n",
    "'''\n",
    "\n",
    "\n",
    "def average(length):\n",
    "    # calculating the average using the sum and length functions\n",
    "    return sum(length) / len(length)\n",
    "    \n",
    "# prompting user to enter a phrase using the input function\n",
    "sentence = input(\"Write a sentence: \")\n",
    "# splitting up the sentence by making each word a substring\n",
    "words = sentence.split()\n",
    "# using len to count letters in each word\n",
    "word_length = [len(word) for word in words]\n",
    "    \n",
    "print ('The average length of words in your sentence is', average(word_length))"
   ]
  }
 ],
 "metadata": {
  "kernelspec": {
   "display_name": "Python 3",
   "language": "python",
   "name": "python3"
  },
  "language_info": {
   "codemirror_mode": {
    "name": "ipython",
    "version": 3
   },
   "file_extension": ".py",
   "mimetype": "text/x-python",
   "name": "python",
   "nbconvert_exporter": "python",
   "pygments_lexer": "ipython3",
   "version": "3.7.3"
  }
 },
 "nbformat": 4,
 "nbformat_minor": 2
}
