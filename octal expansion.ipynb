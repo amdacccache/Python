{
 "cells": [
  {
   "cell_type": "code",
   "execution_count": null,
   "metadata": {},
   "outputs": [],
   "source": [
    "'''\n",
    "Anna Daccache\n",
    "CS5001\n",
    "Fall 2019\n",
    "Homework 3\n",
    "Sept 30, 2019\n",
    "Octal Expansion\n",
    "\n",
    "Test Plan\n",
    "Test Case #1:\n",
    "    dec: 5, oct: 0o5\n",
    "\n",
    "Test Case #2:\n",
    "    dec: 177, oct: 0o261\n",
    "\n",
    "Test Case #3:\n",
    "    dec: 13, oct: 0o15\n",
    "\n",
    "Test Case #4:\n",
    "    dec: 0, oct: n/a\n",
    "    \n",
    "Test Case #5:\n",
    "    dec: 5762, oct: 0o13202\n",
    "\n",
    "'''\n",
    "\n",
    "\n",
    "def main():\n",
    "    # prompting user to input an integer\n",
    "    decimal = int(input('Please enter a positive integer. '))\n",
    "    \n",
    "    if decimal > 0:\n",
    "        # emplying oct() function to run expansion\n",
    "        octal = oct(decimal)\n",
    "    print('The octal expansion value is:', octal)\n",
    "       \n",
    "main()"
   ]
  },
  {
   "cell_type": "code",
   "execution_count": null,
   "metadata": {},
   "outputs": [],
   "source": []
  }
 ],
 "metadata": {
  "kernelspec": {
   "display_name": "Python 3",
   "language": "python",
   "name": "python3"
  },
  "language_info": {
   "codemirror_mode": {
    "name": "ipython",
    "version": 3
   },
   "file_extension": ".py",
   "mimetype": "text/x-python",
   "name": "python",
   "nbconvert_exporter": "python",
   "pygments_lexer": "ipython3",
   "version": "3.7.3"
  }
 },
 "nbformat": 4,
 "nbformat_minor": 2
}
