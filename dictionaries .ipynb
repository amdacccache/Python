{
 "cells": [
  {
   "cell_type": "code",
   "execution_count": 34,
   "metadata": {},
   "outputs": [
    {
     "name": "stdout",
     "output_type": "stream",
     "text": [
      "Type a message to be translated into Pirate speak! hello toy friend\n",
      " ahoy toy matey\n"
     ]
    }
   ],
   "source": [
    "'''\n",
    "Anna Daccache\n",
    "CS5002\n",
    "Fall 2019\n",
    "Lab 4\n",
    "Oct 1, 2019\n",
    "Pirate Dictionary\n",
    "'''\n",
    "\n",
    "def main():\n",
    "    \n",
    "    ENG2PIRATE = {'hello':'ahoy', 'friend':'matey', 'hey':'avast', 'awful':'bilge-sucking', 'omg':'blimey',\n",
    "    'reward':'booty', 'song':'chanty', 'money':'dubloon', 'board':'plank', 'cocktail':'grogg', \n",
    "    'bathroom':'head', 'friends':'hearties', 'cheat':'hornswaggle', 'flag':'jack','boy':'lad',\n",
    "    'girl':'lass', 'my':'me', 'take':'plunder', 'sink':'scuttle', 'telescope':'spyglass', \n",
    "    'clean':'swob', 'you':'ye'}\n",
    "    \n",
    "    english_message = input('Type a message to be translated into Pirate speak! ')\n",
    "    new_string = ''\n",
    "    for word in english_message.split():\n",
    "        lower_word = word.lower()\n",
    "        if lower_word in ENG2PIRATE:\n",
    "            new_string = new_string + ' ' + (ENG2PIRATE[lower_word])\n",
    "        else:\n",
    "            new_string = new_string + ' ' + lower_word\n",
    "    print(new_string)\n",
    "            \n",
    "        \n",
    "\n",
    "\n",
    "main()"
   ]
  },
  {
   "cell_type": "code",
   "execution_count": null,
   "metadata": {},
   "outputs": [],
   "source": []
  },
  {
   "cell_type": "code",
   "execution_count": null,
   "metadata": {},
   "outputs": [],
   "source": []
  }
 ],
 "metadata": {
  "kernelspec": {
   "display_name": "Python 3",
   "language": "python",
   "name": "python3"
  },
  "language_info": {
   "codemirror_mode": {
    "name": "ipython",
    "version": 3
   },
   "file_extension": ".py",
   "mimetype": "text/x-python",
   "name": "python",
   "nbconvert_exporter": "python",
   "pygments_lexer": "ipython3",
   "version": "3.7.3"
  }
 },
 "nbformat": 4,
 "nbformat_minor": 2
}
