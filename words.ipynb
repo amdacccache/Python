{
 "cells": [
  {
   "cell_type": "code",
   "execution_count": 16,
   "metadata": {},
   "outputs": [
    {
     "name": "stdout",
     "output_type": "stream",
     "text": [
      "counterdemonstrations\n",
      "hyperaggressivenesses\n",
      "microminiaturizations\n"
     ]
    }
   ],
   "source": [
    "'''\n",
    "Anna Daccache\n",
    "CS5002\n",
    "Fall 2019\n",
    "Lab 4\n",
    "Oct 1, 2019\n",
    "Words.txt\n",
    "'''\n",
    "\n",
    "def main():\n",
    "    # assigning the file to a value\n",
    "    file = open('words.txt')\n",
    "    # employing a for loop to read lines within the file\n",
    "    for line in file:\n",
    "        word = line.strip()\n",
    "        # employing an if statement to print 20+ char words\n",
    "        if len(word) > 20:\n",
    "            print(word)\n",
    "    \n",
    "    \n",
    "main()"
   ]
  },
  {
   "cell_type": "code",
   "execution_count": null,
   "metadata": {},
   "outputs": [],
   "source": []
  }
 ],
 "metadata": {
  "kernelspec": {
   "display_name": "Python 3",
   "language": "python",
   "name": "python3"
  },
  "language_info": {
   "codemirror_mode": {
    "name": "ipython",
    "version": 3
   },
   "file_extension": ".py",
   "mimetype": "text/x-python",
   "name": "python",
   "nbconvert_exporter": "python",
   "pygments_lexer": "ipython3",
   "version": "3.7.3"
  }
 },
 "nbformat": 4,
 "nbformat_minor": 2
}
