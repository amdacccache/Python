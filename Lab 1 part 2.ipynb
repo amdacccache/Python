{
 "cells": [
  {
   "cell_type": "code",
   "execution_count": null,
   "metadata": {},
   "outputs": [
    {
     "name": "stdout",
     "output_type": "stream",
     "text": [
      "PLAYER TWO: CLOSE YOUR EYES!\n"
     ]
    }
   ],
   "source": [
    "'''\n",
    "    CS5001\n",
    "    Lab 1\n",
    "    Fall 2019\n",
    "    Anna Daccache and Shyla Suri\n",
    "'''\n",
    "\n",
    "def main():\n",
    "    \n",
    "    \n",
    "    # Prompting player two to close their eyes and player one to input their answer\n",
    "    print('PLAYER TWO: CLOSE YOUR EYES!')\n",
    "    original_answer = int(input('Player one, enter the answer (10-49).\\n'))\n",
    "\n",
    "    # Creating space between the answer and the next step calling for player 2\n",
    "    print(\"\\n\")\n",
    "    print(\"\\n\")\n",
    "    print(\"\\n\")\n",
    "\n",
    "    # Calling player two back to the game and prompting them to input their guess\n",
    "    print('PLAYER TWO YOU CAN COME BACK NOW.')\n",
    "    player2_input = int(input('Player 2, enter a number (50-99).\\n'))\n",
    "\n",
    "    # Computing the original answer through calculations involving the factor and player 2's guess\n",
    "    factor = 99 - original_answer\n",
    "    total = factor + player2_input\n",
    "    total_nohundred = total - 100\n",
    "    new_total = total_nohundred + 1\n",
    "    final = player2_input - new_total\n",
    "\n",
    "    # Printing the original answer using the calculation\n",
    "    print('The original answer was...', final)\n",
    "           \n",
    "main()\n",
    "\n"
   ]
  }
 ],
 "metadata": {
  "kernelspec": {
   "display_name": "Python 3",
   "language": "python",
   "name": "python3"
  },
  "language_info": {
   "codemirror_mode": {
    "name": "ipython",
    "version": 3
   },
   "file_extension": ".py",
   "mimetype": "text/x-python",
   "name": "python",
   "nbconvert_exporter": "python",
   "pygments_lexer": "ipython3",
   "version": "3.7.3"
  }
 },
 "nbformat": 4,
 "nbformat_minor": 2
}
