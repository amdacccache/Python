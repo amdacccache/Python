{
 "cells": [
  {
   "cell_type": "code",
   "execution_count": 20,
   "metadata": {},
   "outputs": [
    {
     "name": "stdout",
     "output_type": "stream",
     "text": [
      "n = 2\n",
      "The log of 2 = 1.0\n",
      "n = 1\n",
      "The log of 1 = 0.0\n"
     ]
    }
   ],
   "source": [
    "'''\n",
    "Anna Daccache and Laura Worboys\n",
    "CS5002\n",
    "Fall 2019\n",
    "10/8/19\n",
    "Lab 5\n",
    "'''\n",
    "import math\n",
    "\n",
    "\n",
    "def logorithm(n):\n",
    "    if n >= 1:\n",
    "        print('n =', n)\n",
    "        print('The log of', n, '=', math.log2(n))\n",
    "        logorithm(n-1)\n",
    "\n",
    "logorithm(2)        "
   ]
  },
  {
   "cell_type": "code",
   "execution_count": 19,
   "metadata": {},
   "outputs": [
    {
     "name": "stdout",
     "output_type": "stream",
     "text": [
      "Enter a positive integer: 33\n",
      "Enter a positive integer: 22\n",
      "11\n"
     ]
    }
   ],
   "source": [
    "def gcd(int_one, int_two):\n",
    "            x = int_one % int_two\n",
    "            if x == 0:\n",
    "                print(int_two)\n",
    "            elif x == 1:\n",
    "                print(1)\n",
    "            else:\n",
    "                return gcd(int_two, x)\n",
    "\n",
    "def main():\n",
    "    int_one = int(input('Enter a positive integer: '))\n",
    "    int_two = int(input('Enter a positive integer: '))\n",
    "    \n",
    "    if int_one < 0:\n",
    "        print('You did not enter a positive integer')\n",
    "    elif int_two < 0: \n",
    "        print('You did not enter a positive integer')\n",
    "    else:\n",
    "        if int_one > int_two:\n",
    "            gcd(int_one, int_two)\n",
    "        else: \n",
    "            gcd(int_two, int_one)\n",
    "        \n",
    "        \n",
    "\n",
    "main()"
   ]
  },
  {
   "cell_type": "code",
   "execution_count": 5,
   "metadata": {},
   "outputs": [
    {
     "name": "stdout",
     "output_type": "stream",
     "text": [
      "Enter a number you would like to find. 3\n",
      "3\n"
     ]
    }
   ],
   "source": [
    "def count_occurances(lst, input_n):\n",
    "    \n",
    "    count = 0\n",
    "    \n",
    "    for i in lst:\n",
    "\n",
    "        if i == input_n:\n",
    "            count += 1\n",
    "    print(count)\n",
    "            \n",
    "def main():\n",
    "    lst = [3, 3, 4, 5, 1, 2, 7, 18, 21, 21, 21, 3, 5, 5] \n",
    "    input_n = int(input('Enter a number you would like to find. '))\n",
    "    \n",
    "    count_occurances(lst, input_n)\n",
    "\n",
    "main()\n"
   ]
  },
  {
   "cell_type": "code",
   "execution_count": 6,
   "metadata": {},
   "outputs": [
    {
     "name": "stdout",
     "output_type": "stream",
     "text": [
      "20\n"
     ]
    }
   ],
   "source": [
    "def get_max(lst):\n",
    "    \n",
    "    maximum = 0\n",
    "    \n",
    "    for i in lst:\n",
    "        if i > maximum:\n",
    "            maximum = i\n",
    "    print(maximum)\n",
    "\n",
    "            \n",
    "def main():\n",
    "    lst = [1, 2, 3, 4, 5, -15, 20]\n",
    "    \n",
    "    get_max(lst)\n",
    "\n",
    "main()"
   ]
  },
  {
   "cell_type": "code",
   "execution_count": 7,
   "metadata": {},
   "outputs": [
    {
     "name": "stdout",
     "output_type": "stream",
     "text": [
      "0\n"
     ]
    }
   ],
   "source": [
    "def find(lst):\n",
    "    \n",
    "    n = 0\n",
    "    \n",
    "    for i in lst:\n",
    "        if i == n:\n",
    "            location = i\n",
    "    print(location)\n",
    "\n",
    "            \n",
    "def main():\n",
    "    lst = [1, 5, 2, 4, 0]\n",
    "    \n",
    "    find(lst)\n",
    "\n",
    "main()"
   ]
  },
  {
   "cell_type": "code",
   "execution_count": 4,
   "metadata": {},
   "outputs": [],
   "source": [
    "def find(lst):\n",
    "    \n",
    "    n = len(lst)\n",
    "    \n",
    "    for i in range(n):\n",
    "        if lst[i] == n:\n",
    "            return i\n",
    "    \n",
    "    return 1\n",
    "\n",
    "            \n",
    "def main():\n",
    "    lst = [1, 5, 2, 4, 0]\n",
    "    \n",
    "    find(lst)\n",
    "\n",
    "main()"
   ]
  },
  {
   "cell_type": "code",
   "execution_count": null,
   "metadata": {},
   "outputs": [],
   "source": []
  }
 ],
 "metadata": {
  "kernelspec": {
   "display_name": "Python 3",
   "language": "python",
   "name": "python3"
  },
  "language_info": {
   "codemirror_mode": {
    "name": "ipython",
    "version": 3
   },
   "file_extension": ".py",
   "mimetype": "text/x-python",
   "name": "python",
   "nbconvert_exporter": "python",
   "pygments_lexer": "ipython3",
   "version": "3.7.3"
  }
 },
 "nbformat": 4,
 "nbformat_minor": 2
}
