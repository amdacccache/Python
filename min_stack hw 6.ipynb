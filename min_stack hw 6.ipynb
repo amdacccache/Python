{
 "cells": [
  {
   "cell_type": "code",
   "execution_count": 14,
   "metadata": {},
   "outputs": [
    {
     "name": "stdout",
     "output_type": "stream",
     "text": [
      "[17, 12, 25, 100, 2, 8, 14]\n",
      "The min value is: 2\n"
     ]
    }
   ],
   "source": [
    "'''\n",
    "Anna Daccache\n",
    "CS 5001\n",
    "Fall 2019\n",
    "11/13/19\n",
    "HW 6\n",
    "Min Stack\n",
    "\n",
    "Test Plan:\n",
    "\n",
    "Test Case 1:\n",
    "list = 1, 2, 3, 4\n",
    "min = 1\n",
    "\n",
    "Test Case 2:\n",
    "list = 15, 20, 25, 30\n",
    "min = 15\n",
    "\n",
    "Test Case 3:\n",
    "list = 0, -7, 100\n",
    "min = -7\n",
    "\n",
    "Test Case 4:\n",
    "list = 12, 20, 28, 36\n",
    "min = 12\n",
    "\n",
    "Test Case 5:\n",
    "list = 11, 2, 7, 9\n",
    "min = 2\n",
    "'''\n",
    "class Stack():\n",
    "\n",
    "    def __init__(self):\n",
    "        # initializing the data structure\n",
    "        self.stack = []\n",
    "\n",
    "\n",
    "    def push(self, x: int) -> None:\n",
    "        # adding item to the stack\n",
    "        if self.stack:\n",
    "            self.stack.append([x, min(x, self.stack[-1][1])])\n",
    "        else:\n",
    "            self.stack.append([x, x])\n",
    "    \n",
    "\n",
    "    def pop(self) -> None:\n",
    "        # removing the top item from the stack\n",
    "        if self.stack:\n",
    "            self.stack.pop()\n",
    "        else:\n",
    "            return None\n",
    "\n",
    "    def top(self) -> int:\n",
    "        # retreiving the top element in the stack\n",
    "        if self.stack:\n",
    "            return self.stack[-1][0]\n",
    "        else:\n",
    "            return None\n",
    "\n",
    "    def getMin(self) -> int:\n",
    "        # retreiving the minimum value in the stack\n",
    "        if self.stack:\n",
    "            return self.stack[-1][1]\n",
    "        else:\n",
    "            return None\n",
    "    \n",
    "stack = Stack()\n",
    "\n",
    "lst = [17, 12, 25, 100, 2, 8, 14]\n",
    "# iterating through list and adding items to the stack\n",
    "for i in lst:\n",
    "    stack.push(i)\n",
    "# printing list and minimum value of list\n",
    "print(lst)\n",
    "print('The min value is:', stack.getMin())"
   ]
  },
  {
   "cell_type": "code",
   "execution_count": null,
   "metadata": {},
   "outputs": [],
   "source": []
  }
 ],
 "metadata": {
  "kernelspec": {
   "display_name": "Python 3",
   "language": "python",
   "name": "python3"
  },
  "language_info": {
   "codemirror_mode": {
    "name": "ipython",
    "version": 3
   },
   "file_extension": ".py",
   "mimetype": "text/x-python",
   "name": "python",
   "nbconvert_exporter": "python",
   "pygments_lexer": "ipython3",
   "version": "3.7.3"
  }
 },
 "nbformat": 4,
 "nbformat_minor": 2
}
