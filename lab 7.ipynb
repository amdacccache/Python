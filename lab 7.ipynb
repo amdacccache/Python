{
 "cells": [
  {
   "cell_type": "code",
   "execution_count": 12,
   "metadata": {},
   "outputs": [],
   "source": [
    "class Fraction(object):\n",
    "    def __init__(self, top = 0, bottom = 0):\n",
    "        self.numerator = top\n",
    "        self.denominator = bottom\n",
    "    \n",
    "    def __str__(self):\n",
    "        return_str = '%.2f / %.2f' % (self.numerator, self.denominator)\n",
    "        return return_str\n",
    "    \n",
    "    def __add__(self, other):\n",
    "        if isinstance(other, Fraction):\n",
    "            fraction_num = (self.numerator * other.denominator) + (other.numerator * self.denominator)\n",
    "            fraction_den = self.denominator * other.denominator\n",
    "            fraction_add = Fraction(fraction_num, fraction_den)\n",
    "            return fraction_add\n",
    "        else:\n",
    "            fraction_num = self.numerator + (self.denominator * other)\n",
    "            fraction_den = self.denominator\n",
    "            fraction_add = Fraction(fraction_num, fraction_den)\n",
    "            return fraction_add\n",
    "    \n",
    "    def __radd__(self, other):\n",
    "        return self + other\n",
    "\n",
    "fraction_a = Fraction(1, 2)\n",
    "fraction_b = Fraction(2, 3)\n",
    "print(fraction_a + fraction_b)\n",
    "        \n",
    "        "
   ]
  },
  {
   "cell_type": "code",
   "execution_count": 14,
   "metadata": {},
   "outputs": [
    {
     "name": "stdout",
     "output_type": "stream",
     "text": [
      "Write a message. racecar\n",
      "This is your reversed string: racecar\n"
     ]
    }
   ],
   "source": [
    "def createStack():\n",
    "    stack=[] \n",
    "    return stack \n",
    "  \n",
    "def length(stack): \n",
    "    return len(stack) \n",
    "\n",
    "def isEmpty(stack): \n",
    "    if size(stack) == 0: \n",
    "        return true \n",
    "\n",
    "def push(stack,item): \n",
    "    stack.append(item) \n",
    "\n",
    "def pop(stack): \n",
    "    if isEmpty(stack): return\n",
    "    return stack.pop() \n",
    " \n",
    "def reverse(string): \n",
    "    n = len(string) \n",
    "      \n",
    "    stack = createStack() \n",
    "\n",
    "    for i in range(0, n, 1): \n",
    "        push(stack, string[i]) \n",
    "\n",
    "    string = \"\" \n",
    "\n",
    "    for i in range(0, n, 1): \n",
    "        string += pop(stack) \n",
    "          \n",
    "    return string \n",
    "      \n",
    "\n",
    "string = input('Write a message. ')\n",
    "string = reverse(string) \n",
    "print(\"This is your reversed string:\", string) "
   ]
  },
  {
   "cell_type": "code",
   "execution_count": 19,
   "metadata": {},
   "outputs": [
    {
     "name": "stdout",
     "output_type": "stream",
     "text": [
      "Enter a number: 5\n"
     ]
    },
    {
     "ename": "TypeError",
     "evalue": "push() takes 1 positional argument but 2 were given",
     "output_type": "error",
     "traceback": [
      "\u001b[0;31m---------------------------------------------------------------------------\u001b[0m",
      "\u001b[0;31mTypeError\u001b[0m                                 Traceback (most recent call last)",
      "\u001b[0;32m<ipython-input-19-d713c4350a80>\u001b[0m in \u001b[0;36m<module>\u001b[0;34m\u001b[0m\n\u001b[1;32m     15\u001b[0m     \u001b[0mnewnum\u001b[0m \u001b[0;34m=\u001b[0m \u001b[0mdecnum\u001b[0m \u001b[0;34m%\u001b[0m \u001b[0;36m2\u001b[0m\u001b[0;34m\u001b[0m\u001b[0;34m\u001b[0m\u001b[0m\n\u001b[1;32m     16\u001b[0m     \u001b[0mdecnum\u001b[0m \u001b[0;34m=\u001b[0m \u001b[0mdecnum\u001b[0m \u001b[0;34m//\u001b[0m \u001b[0;36m2\u001b[0m\u001b[0;34m\u001b[0m\u001b[0;34m\u001b[0m\u001b[0m\n\u001b[0;32m---> 17\u001b[0;31m     \u001b[0mx\u001b[0m\u001b[0;34m.\u001b[0m\u001b[0mpush\u001b[0m\u001b[0;34m(\u001b[0m\u001b[0mnewnum\u001b[0m\u001b[0;34m)\u001b[0m\u001b[0;34m\u001b[0m\u001b[0;34m\u001b[0m\u001b[0m\n\u001b[0m\u001b[1;32m     18\u001b[0m \u001b[0;34m\u001b[0m\u001b[0m\n\u001b[1;32m     19\u001b[0m \u001b[0;32mwhile\u001b[0m \u001b[0mx\u001b[0m\u001b[0;34m.\u001b[0m\u001b[0msize\u001b[0m\u001b[0;34m(\u001b[0m\u001b[0;34m)\u001b[0m \u001b[0;34m!=\u001b[0m \u001b[0;36m0\u001b[0m\u001b[0;34m:\u001b[0m\u001b[0;34m\u001b[0m\u001b[0;34m\u001b[0m\u001b[0m\n",
      "\u001b[0;31mTypeError\u001b[0m: push() takes 1 positional argument but 2 were given"
     ]
    }
   ],
   "source": [
    "class Stack(object):\n",
    "    def __init__(self):\n",
    "        self.items = []\n",
    "    def push(self):\n",
    "        self.items.append(item)\n",
    "    def pop(self):\n",
    "        return self.items.pop()\n",
    "    def size(self):\n",
    "        return len(self.items)\n",
    "    \n",
    "x = Stack()\n",
    "decnum = int(input('Enter a number: '))\n",
    "\n",
    "while decnum != 0:\n",
    "    newnum = decnum % 2\n",
    "    decnum = decnum // 2\n",
    "    x.push(newnum)\n",
    "\n",
    "while x.size() != 0:\n",
    "    a = x.pop\n",
    "    print(a)"
   ]
  },
  {
   "cell_type": "code",
   "execution_count": null,
   "metadata": {},
   "outputs": [],
   "source": [
    "class Stack(object):\n",
    "    \n",
    "def __init__(self):\n",
    "    self.items = []\n",
    "\n",
    "def __str__(self):\n",
    "    return str(self.items)\n",
    "\n",
    "def push(self, item):\n",
    "    self.items.append(item)\n",
    "\n",
    "def pop(self):\n",
    "    return self.items.pop()\n",
    "\n",
    "def peek(self):\n",
    "    return self.items[len(self.items)-1]\n",
    "\n",
    "def isEmpty(self):\n",
    "    return self.items == []\n",
    "\n",
    "def size(self):\n",
    "    return len(self.items)\n"
   ]
  }
 ],
 "metadata": {
  "kernelspec": {
   "display_name": "Python 3",
   "language": "python",
   "name": "python3"
  },
  "language_info": {
   "codemirror_mode": {
    "name": "ipython",
    "version": 3
   },
   "file_extension": ".py",
   "mimetype": "text/x-python",
   "name": "python",
   "nbconvert_exporter": "python",
   "pygments_lexer": "ipython3",
   "version": "3.7.3"
  }
 },
 "nbformat": 4,
 "nbformat_minor": 2
}
