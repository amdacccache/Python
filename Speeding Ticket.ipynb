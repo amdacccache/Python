{
 "cells": [
  {
   "cell_type": "code",
   "execution_count": 8,
   "metadata": {},
   "outputs": [
    {
     "name": "stdout",
     "output_type": "stream",
     "text": [
      "What is the speed limit?35\n",
      "How fast were you driving?93\n",
      "You were reckless driving. You have been fined $540\n"
     ]
    }
   ],
   "source": [
    "'''\n",
    "Overtime Pay\n",
    "CS5001\n",
    "Fall 2019\n",
    "Homework 3\n",
    "\n",
    "Test Plan:\n",
    "    Test Case #1\n",
    "    speed limit: 50, mph: 45, fine: $0\n",
    "    \n",
    "    Test Case #2\n",
    "    speed limit: 75, mph: 80, fine: $75\n",
    "    \n",
    "    Test Case #3 \n",
    "    speed limit: 65, mph: 90, fine: $175\n",
    "    \n",
    "    Test Case #4 \n",
    "    speed limit: 40, mph: 56, fine: $130\n",
    "    \n",
    "    Test Case #5 \n",
    "    speed limit: 35, mph: 93, fine: $540\n",
    "    \n",
    "'''\n",
    "\n",
    "\n",
    "def main():\n",
    "    # prompts user for speed limit and their speed\n",
    "    speed_limit = int(input('What is the speed limit? '))\n",
    "    clocked_speed = int(input('How fast were you driving? '))\n",
    "    # calculates regular fine and recklass fine\n",
    "    speeding_fine = 50 + (5 * (clocked_speed - speed_limit))\n",
    "    reckless_fine = speeding_fine + 200 \n",
    "    # if statement establishes if person was speeding and provides fine info\n",
    "    if speed_limit < clocked_speed <= 90:\n",
    "        print('You were speeding. You have been fined $', speeding_fine, sep='')\n",
    "    elif clocked_speed > 90:\n",
    "        print('You were reckless driving. You have been fined $', reckless_fine, sep='')\n",
    "    else:\n",
    "        print('You were driving within the limit.')\n",
    "\n",
    "\n",
    "main()"
   ]
  }
 ],
 "metadata": {
  "kernelspec": {
   "display_name": "Python 3",
   "language": "python",
   "name": "python3"
  },
  "language_info": {
   "codemirror_mode": {
    "name": "ipython",
    "version": 3
   },
   "file_extension": ".py",
   "mimetype": "text/x-python",
   "name": "python",
   "nbconvert_exporter": "python",
   "pygments_lexer": "ipython3",
   "version": "3.7.3"
  }
 },
 "nbformat": 4,
 "nbformat_minor": 2
}
