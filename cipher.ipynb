{
 "cells": [
  {
   "cell_type": "code",
   "execution_count": 1,
   "metadata": {},
   "outputs": [
    {
     "name": "stdout",
     "output_type": "stream",
     "text": [
      "Would you like to encrypt or decrypt your phrase?\n",
      "decrypt\n",
      "What is your phrase?\n",
      "xxx\n",
      "Enter the shift amount (1-26) \n",
      "3\n",
      "aaa\n"
     ]
    }
   ],
   "source": [
    "'''\n",
    "Anna Daccache\n",
    "CS5002\n",
    "Fall 2019\n",
    "Lab 3\n",
    "Cipher\n",
    "'''\n",
    "\n",
    "\n",
    "Max = 26\n",
    "    \n",
    "def Cipher():\n",
    "    while True:\n",
    "        print('Would you like to encrypt or decrypt your phrase?')\n",
    "        cipher = input().lower()\n",
    "        if cipher in 'encrypt decrypt'.split():\n",
    "            return cipher\n",
    "        else:\n",
    "            print('Enter \"encrypt\" or \"decrypt\"')\n",
    "    \n",
    "def Phrase():\n",
    "    print('What is your phrase?')\n",
    "    return input()\n",
    "\n",
    "        \n",
    "def Key():\n",
    "    key = 0   \n",
    "    while True:\n",
    "        print('Enter the shift amount (1-%s) '% (Max))\n",
    "        key = int(input())\n",
    "        if (key >= 1 and key <= Max):\n",
    "            return key\n",
    "\n",
    "def Translation(cipher, phrase, key):\n",
    "    if cipher[0] == 'decrypt':\n",
    "        key = -key\n",
    "    translate = ''\n",
    "\n",
    "\n",
    "    for shape in phrase:\n",
    "        if shape.isalpha():\n",
    "            value = ord(shape)\n",
    "            value += key\n",
    "            \n",
    "            if shape.isupper():\n",
    "                if value > ord('Z'):\n",
    "                    value -= 26\n",
    "                elif value < ord('A'):\n",
    "                    value += 26\n",
    "            elif shape.islower():\n",
    "                if value > ord('z'):\n",
    "                    value -= 26\n",
    "                elif value < ord('a'):\n",
    "                    value += 26\n",
    "        \n",
    "            translate += chr(value)\n",
    "        else: \n",
    "            translate += shape\n",
    "    return translate\n",
    "\n",
    "cipher = Cipher()\n",
    "phrase = Phrase()\n",
    "key = Key()\n",
    "\n",
    "print(Translation(cipher, phrase, key))"
   ]
  },
  {
   "cell_type": "code",
   "execution_count": null,
   "metadata": {},
   "outputs": [],
   "source": []
  }
 ],
 "metadata": {
  "kernelspec": {
   "display_name": "Python 3",
   "language": "python",
   "name": "python3"
  },
  "language_info": {
   "codemirror_mode": {
    "name": "ipython",
    "version": 3
   },
   "file_extension": ".py",
   "mimetype": "text/x-python",
   "name": "python",
   "nbconvert_exporter": "python",
   "pygments_lexer": "ipython3",
   "version": "3.7.3"
  }
 },
 "nbformat": 4,
 "nbformat_minor": 2
}
