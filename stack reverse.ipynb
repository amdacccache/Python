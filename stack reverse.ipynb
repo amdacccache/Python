{
 "cells": [
  {
   "cell_type": "code",
   "execution_count": null,
   "metadata": {},
   "outputs": [],
   "source": [
    "def createStack(): \n",
    "    stack=[] \n",
    "    return stack \n",
    "  \n",
    "# Function to determine the size of the stack \n",
    "def size(stack): \n",
    "    return len(stack) \n",
    "  \n",
    "# Stack is empty if the size is 0 \n",
    "def isEmpty(stack): \n",
    "    if size(stack) == 0: \n",
    "        return true \n",
    "  \n",
    "# Function to add an item to stack .  \n",
    "# It increases size by 1  \n",
    "def push(stack,item): \n",
    "    stack.append(item) \n",
    "  \n",
    "#Function to remove an item from stack.  \n",
    "# It decreases size by 1 \n",
    "def pop(stack): \n",
    "    if isEmpty(stack): return\n",
    "    return stack.pop() \n",
    "  \n",
    "# A stack based function to reverse a string \n",
    "def reverse(string): \n",
    "    n = len(string) \n",
    "      \n",
    "    # Create a empty stack \n",
    "    stack = createStack() \n",
    "  \n",
    "    # Push all characters of string to stack \n",
    "    for i in range(0, n, 1): \n",
    "        push(stack, string[i]) \n",
    "  \n",
    "    # Making the string empty since all  \n",
    "    #characters are saved in stack  \n",
    "    string = \"\" \n",
    "  \n",
    "    # Pop all characters of string and  \n",
    "    # put them back to string \n",
    "    for i in range(0, n, 1): \n",
    "        string += pop(stack) \n",
    "          \n",
    "    return string \n",
    "      \n",
    "\n",
    "string = input('Write a message.')\n",
    "string = reverse(string) \n",
    "print(\"This is your reversed string:\", string) "
   ]
  }
 ],
 "metadata": {
  "kernelspec": {
   "display_name": "Python 3",
   "language": "python",
   "name": "python3"
  },
  "language_info": {
   "codemirror_mode": {
    "name": "ipython",
    "version": 3
   },
   "file_extension": ".py",
   "mimetype": "text/x-python",
   "name": "python",
   "nbconvert_exporter": "python",
   "pygments_lexer": "ipython3",
   "version": "3.7.3"
  }
 },
 "nbformat": 4,
 "nbformat_minor": 2
}
