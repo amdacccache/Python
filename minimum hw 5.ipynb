{
 "cells": [
  {
   "cell_type": "code",
   "execution_count": 4,
   "metadata": {},
   "outputs": [
    {
     "name": "stdout",
     "output_type": "stream",
     "text": [
      "Enter the length of your list: 5\n",
      "Enter a number: 100\n",
      "Enter a number: 200\n",
      "Enter a number: -3\n",
      "Enter a number: 15\n",
      "Enter a number: -17\n",
      "The smallest number in the list is: -17\n"
     ]
    }
   ],
   "source": [
    "'''\n",
    "Anna Daccache\n",
    "CS5001\n",
    "Fall 2019\n",
    "10/20/19\n",
    "HW 5\n",
    "Minimum\n",
    "\n",
    "Test Plan:\n",
    "\n",
    "Test Case # 1\n",
    "lst = 1, 2, 3, 4, 5\n",
    "min = 1\n",
    "\n",
    "Test Case # 2\n",
    "lst = 2, 4, 6, 8, 10\n",
    "min = 2\n",
    "\n",
    "Test Case # 3\n",
    "lst = -10, -20, -30, -40, -50\n",
    "min = -50\n",
    "\n",
    "Test Case # 4\n",
    "lst = -10, 10, 20\n",
    "min = -10\n",
    "\n",
    "Test Case # 5\n",
    "lst = 100, 200, -3, 15, -17\n",
    "min = -17\n",
    "'''\n",
    "\n",
    "\n",
    "def get_min(lst):\n",
    "    # setting the initial minimum to the first value in the list\n",
    "    minimum = lst[0]\n",
    "    # for loop iterates through list\n",
    "    for i in lst:\n",
    "        # if value is smaller than previous in list it is assigned as min\n",
    "        if i < minimum:\n",
    "            minimum = i\n",
    "    print('The smallest number in the list is:', minimum)\n",
    "\n",
    "\n",
    "def main():\n",
    "    \n",
    "    lst = []\n",
    "    # allows user to input list length\n",
    "    amount = int(input('Enter the length of your list: '))\n",
    "    # for loop allows user to enter a value for the list\n",
    "    # iterates through as many times as user called for in 'amount'\n",
    "    for n in range(amount):\n",
    "        numbers = int(input('Enter a number: '))\n",
    "        # function adds each new value to the list\n",
    "        lst.append(numbers)\n",
    "    # calling upon initial function to find minimum value\n",
    "    get_min(lst)\n",
    "\n",
    "main()"
   ]
  }
 ],
 "metadata": {
  "kernelspec": {
   "display_name": "Python 3",
   "language": "python",
   "name": "python3"
  },
  "language_info": {
   "codemirror_mode": {
    "name": "ipython",
    "version": 3
   },
   "file_extension": ".py",
   "mimetype": "text/x-python",
   "name": "python",
   "nbconvert_exporter": "python",
   "pygments_lexer": "ipython3",
   "version": "3.7.3"
  }
 },
 "nbformat": 4,
 "nbformat_minor": 2
}
