{
 "cells": [
  {
   "cell_type": "code",
   "execution_count": null,
   "metadata": {},
   "outputs": [
    {
     "name": "stdout",
     "output_type": "stream",
     "text": [
      "How much are you investing? 10\n",
      "What is the interest rate? 0.0125\n"
     ]
    }
   ],
   "source": [
    "'''\n",
    "Anna Daccache\n",
    "CS5001\n",
    "Fall 2019\n",
    "Homework 3\n",
    "Oct 1, 2019\n",
    "Investment\n",
    "\n",
    "Test Plan:\n",
    "Test Case #1\n",
    "    invest: 250, interest: 0.027, years: 26\n",
    "\n",
    "Test Case #2\n",
    "    invest: 10, interest: 0.08, years: 9\n",
    "    \n",
    "Test Case #3\n",
    "    invest: 7000, interest: 0.3, years: 2.6\n",
    "    \n",
    "Test Case #4\n",
    "    invest: 1, interest: 0.5, years: 1.7\n",
    "    \n",
    "Test Case #5\n",
    "    invest: 1000000, interest: 0.0001, years: 139\n",
    "'''\n",
    "\n",
    "def main():\n",
    "    years = 0\n",
    "    \n",
    "    # prompting user to provide an initial investment value and interest rate\n",
    "    initial_investment = int(input('How much are you investing? '))\n",
    "    interest_rate = float(input('What is the interest rate? '))\n",
    "    \n",
    "    # calculating what double actually is\n",
    "    accumulation = initial_investment * 2\n",
    "\n",
    "    # While loop iterating through the doubling algorithm\n",
    "    while initial_investment <= accumulation:\n",
    "        years += 1\n",
    "        initial_investment = initial_investment * interest_rate\n",
    "\n",
    "    # displaying how many years it will take to double the investment\n",
    "    print(\"Years to double the investment:\", years)\n",
    "main()"
   ]
  },
  {
   "cell_type": "code",
   "execution_count": null,
   "metadata": {},
   "outputs": [],
   "source": []
  }
 ],
 "metadata": {
  "kernelspec": {
   "display_name": "Python 3",
   "language": "python",
   "name": "python3"
  },
  "language_info": {
   "codemirror_mode": {
    "name": "ipython",
    "version": 3
   },
   "file_extension": ".py",
   "mimetype": "text/x-python",
   "name": "python",
   "nbconvert_exporter": "python",
   "pygments_lexer": "ipython3",
   "version": "3.7.3"
  }
 },
 "nbformat": 4,
 "nbformat_minor": 2
}
