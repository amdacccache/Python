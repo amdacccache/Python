{
 "cells": [
  {
   "cell_type": "code",
   "execution_count": 19,
   "metadata": {},
   "outputs": [
    {
     "name": "stdout",
     "output_type": "stream",
     "text": [
      "Enter a value for n: 20000\n",
      "3.141542653589821\n",
      "The difference between the true value of pi and the approximation is 4.999999997190585e-05\n"
     ]
    }
   ],
   "source": [
    "'''\n",
    "Eligibility\n",
    "CS5001\n",
    "Fall 2019\n",
    "Homework 3\n",
    "\n",
    "Test Plan:\n",
    "    Test Case #1\n",
    "    n: 5, final: 3.339, dif: -0.198\n",
    "    \n",
    "    Test Case #2\n",
    "    n: 100, final: 3.132, diff: 0.01\n",
    "    \n",
    "    Test Case #3 \n",
    "    n: 0, final: 4, diff: -0.858\n",
    "    \n",
    "    Test Case #4 \n",
    "    n: 5000, final: 3.141, diff: 0.0002\n",
    "    \n",
    "    Test Case #5 \n",
    "    n: 20000, final: 3.142, diff: 4.999 x 10^-5\n",
    "'''\n",
    "\n",
    "\n",
    "import math\n",
    "\n",
    "def main():\n",
    "    # prompt user to enter a value\n",
    "    n = int(input('Enter a value for n: '))\n",
    "    sum = 0\n",
    "    # for loop used to calculate sum of the series \n",
    "    for i in range(1,n):\n",
    "        sum += (-1) ** (i + 1) * ((1 / (i + i + 1)))\n",
    "    #printing sum of series and difference from pi    \n",
    "    final = 4 * (1 - sum)\n",
    "    print(final)\n",
    "    print('The difference between the true value of pi and the approximation is', math.pi - final)\n",
    "\n",
    "\n",
    "main()"
   ]
  },
  {
   "cell_type": "code",
   "execution_count": null,
   "metadata": {},
   "outputs": [],
   "source": []
  }
 ],
 "metadata": {
  "kernelspec": {
   "display_name": "Python 3",
   "language": "python",
   "name": "python3"
  },
  "language_info": {
   "codemirror_mode": {
    "name": "ipython",
    "version": 3
   },
   "file_extension": ".py",
   "mimetype": "text/x-python",
   "name": "python",
   "nbconvert_exporter": "python",
   "pygments_lexer": "ipython3",
   "version": "3.7.3"
  }
 },
 "nbformat": 4,
 "nbformat_minor": 2
}
